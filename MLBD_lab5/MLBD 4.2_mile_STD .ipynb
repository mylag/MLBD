{
 "cells": [
  {
   "cell_type": "markdown",
   "metadata": {
    "deletable": true,
    "editable": true
   },
   "source": [
    "# Model selection\n",
    "## Introduction\n",
    "The goal of this notebook is to illustrate some basic strategies for model selection . In the first part, you have explored the fitness paramaeters; this second part focuses on the search of one (or some) final predicitve model(s)."
   ]
  },
  {
   "cell_type": "markdown",
   "metadata": {
    "deletable": true,
    "editable": true
   },
   "source": [
    "Below you have the code developed for this laboratory."
   ]
  },
  {
   "cell_type": "code",
   "execution_count": 1,
   "metadata": {
    "collapsed": true,
    "deletable": true,
    "editable": true
   },
   "outputs": [],
   "source": [
    "#Code for the app\n",
    "import os, glob, time\n",
    "import numpy as np\n",
    "import csv\n",
    "import matplotlib.pyplot as plt\n",
    "import re\n",
    "import pylab as pl\n",
    "import csv\n",
    "import pandas as pd\n",
    "import copy\n",
    "\n",
    "from collections import OrderedDict\n",
    "\n",
    "\n",
    "pathLogs = \"\"\n",
    "pathDataSet = \"\"\n",
    "pathWriteFilesSyst = \"\"\n",
    "minSen = 0.75\n",
    "minSpe = 0.75\n",
    "\n",
    "#Fonctions----------------\n",
    "def getAllLogs(pathFile, typeFile):\n",
    "    listFiles = []\n",
    "    for path, dirs, files in os.walk(pathFile):\n",
    "        for filename in files:\n",
    "            if filename.find(typeFile) != -1 and len(filename) > 50:\n",
    "                search = os.path.join(path, filename)\n",
    "                listFiles.append(search)\n",
    "    return listFiles\n",
    "\n",
    "def getResultsDrawGrafSpeSen(listOfFiles):\n",
    "    vecSens = []\n",
    "    vecSpe = []\n",
    "    for fileElement in listOfFiles:\n",
    "        cr = csv.reader(open(fileElement,\"r\"))\n",
    "        for row in cr:\n",
    "            if len(row) >= 1:\n",
    "                if '#Sensitivity;' in row[0]:\n",
    "                    valueParams =  row[0].split(';')[1]\n",
    "                    vecSens.append(valueParams)\n",
    "                if '#Specificity;' in row[0]:\n",
    "                    valueParams =  row[0].split(';')[1]\n",
    "                    vecSpe.append(valueParams)\n",
    "    return vecSens, vecSpe\n",
    "\n",
    "def setDrawSenSpe(vecSens, vecSpe):\n",
    "    plt.scatter(vecSens, vecSpe, s=5, facecolors='none', edgecolors='r')\n",
    "    plt.xlabel(\"Sensitivity\")\n",
    "    plt.ylabel(\"Specificity\")\n",
    "    plt.title(\"Results\", fontsize=14, fontweight='bold')\n",
    "    plt.show()\n",
    "    \n",
    "    \n",
    "def getDictVars(pathDataSet):\n",
    "    dictionaryVars = {}\n",
    "    dictPathSystems = {}\n",
    "    cr = csv.reader(open(pathDataSet,\"r\"))\n",
    "    firstLine = next(cr)\n",
    "    varVec = firstLine[0].split(';')\n",
    "    qtdvar = len(varVec)\n",
    "    aux = 1\n",
    "    while aux < qtdvar-1:\n",
    "        dictionaryVars[varVec[aux]] = 0\n",
    "        dictPathSystems[varVec[aux]] = []\n",
    "        aux = aux + 1\n",
    "    return dictionaryVars, dictPathSystems\n",
    "\n",
    "def countVariables(dictVar, dictVarBySystems, listFiles, dictPathVar):\n",
    "    for fileGood in listFiles:\n",
    "        dictAux = dictVar.copy()\n",
    "        vecRules = openCSVGetFSystem(fileGood)\n",
    "        for rule in vecRules:\n",
    "            dictVar = addValueVariable(dictVar, rule)\n",
    "        dictVarBySystems, dictPathVar = countVarSystem(dictAux, dictVar, dictVarBySystems, dictPathVar, fileGood)\n",
    "    return dictVar, dictVarBySystems, dictPathVar\n",
    "\n",
    "def openCSVGetFSystem(pathFile):\n",
    "    vecFS = []\n",
    "    cr = csv.reader(open(pathFile,\"rb\"))\n",
    "    for row in cr:\n",
    "        if len(row) >= 1:\n",
    "            if ' IF ' in row[0]:\n",
    "                vecFS.append(row[0])\n",
    "    return vecFS\n",
    "\n",
    "def addValueVariable(dictVar, ruleDesign):\n",
    "    for keysValue in dictVar.keys():\n",
    "        if keysValue in ruleDesign:\n",
    "            dictVar[keysValue] = dictVar[keysValue] + 1\n",
    "    return dictVar\n",
    "\n",
    "\n",
    "def countVarSystem(dictAux, dictNow, dictVarSyst, dictPathVar, filePath):\n",
    "    for keyValue in dictAux.keys():\n",
    "        if dictNow[keyValue] > dictAux[keyValue]:\n",
    "            dictVarSyst[keyValue] = dictVarSyst[keyValue] + 1\n",
    "            dictPathVar[keyValue].append(filePath)\n",
    "    return dictVarSyst, dictPathVar\n",
    "\n",
    "def getBestSystem(minSensitivity, minSpecificity, listOfFiles):\n",
    "    minSen = False\n",
    "    minSpe = False\n",
    "    vecBestSys = []\n",
    "    for fileElement in listOfFiles:\n",
    "        minSen = False\n",
    "        minSpe = False\n",
    "        cr = csv.reader(open(fileElement,\"r\"))\n",
    "        for row in cr:\n",
    "            if len(row) >= 1:\n",
    "                if '#Sensitivity;' in row[0]:\n",
    "                    valueParams =  row[0].split(';')[1]\n",
    "                    if float(valueParams) > minSensitivity:\n",
    "                        minSen = True\n",
    "                        #vecBestSys.append(fileElement)\n",
    "                if '#Specificity;' in row[0]:\n",
    "                    valueParams =  row[0].split(';')[1]\n",
    "                    if float(valueParams) > minSpecificity:\n",
    "                        minSpe = True\n",
    "        if minSpe is True and minSen is True:\n",
    "            vecBestSys.append(fileElement)\n",
    "    return vecBestSys \n",
    "\n",
    "def write_datafram_var(qty_models, dict_freq_vars):\n",
    "    df = pd.DataFrame(dict_freq_vars.items(), columns=['name', 'frequency'])\n",
    "    df = df.sort_values(['frequency'], ascending=[0])\n",
    "    df = df.reset_index(drop=True)\n",
    "    df['percent'] = df.ix[:,'frequency':].sum(axis=1)/qty_models * 100\n",
    "    df = df.drop(df[df.frequency == 0].index)\n",
    "    print df\n",
    "\n",
    "def plot_histogram(data_values, data_label):\n",
    "    ax = plt.subplot(111)\n",
    "    width=0.3\n",
    "    bins = map(lambda x: x-width/2,range(1,len(data_values)+1))\n",
    "    ax.bar(bins,vec_qty_threshold,width=width)\n",
    "    ax.set_xticks(map(lambda x: x, range(1,len(data_label)+1)))\n",
    "    ax.set_xticklabels(vec_value_threshold,rotation=45)\n",
    "    plt.xlabel(\"Filtering threshold\")\n",
    "    plt.ylabel(\"Number of models\")\n",
    "    plt.title(\"Number of models remaining after filtering\", fontsize=14, fontweight='bold')\n",
    "    plt.show()\n",
    "    \n",
    "def removeVariablesNull(dictValuesVar):\n",
    "    dictValues = {}\n",
    "    dictPath = {}\n",
    "    for keyDict in dictValuesVar.keys():\n",
    "        if dictValuesVar[keyDict] > 0:\n",
    "            dictValues[keyDict] = dictValuesVar[keyDict]\n",
    "    return dictValues\n",
    "\n",
    "def removeVariablesNullValuesArr(dictValuesArr):\n",
    "    dictValuesArrFull = {}\n",
    "    for keyDict in dictValuesArr.keys():\n",
    "        if len(dictValuesArr[keyDict]) > 0:\n",
    "            dictValuesArrFull[keyDict] = dictValuesArr[keyDict]\n",
    "    return dictValuesArrFull\n",
    "\n",
    "def writeFilesCSV(dictVarsPath, pathFile):\n",
    "    with open(pathFile, 'wb') as csv_file:\n",
    "        writer = csv.writer(csv_file)\n",
    "        for key, value in dictVarsPath.items():\n",
    "            writer.writerow([key, value])\n",
    "        \n",
    "def writeFilesCSVDS(list_ds, pathFile):\n",
    "    with open(pathFile, 'wb') as csv_file:\n",
    "        writer = csv.writer(csv_file)\n",
    "        writer.writerow(list_ds)\n",
    "\n",
    "def orderDictByVar(dictValues):\n",
    "    vecValues = []\n",
    "    vecKeys = []\n",
    "    dictFreVarSort = sorted(dictValues.items(), key=lambda x: x[1], reverse=True)\n",
    "    for element in dictFreVarSort:\n",
    "        vecValues.append(element[0])\n",
    "        vecKeys.append(element[1])\n",
    "    return vecValues, vecKeys\n",
    "\n",
    "def generateGraph(vValues, vLables):\n",
    "    vValues.insert(0,0)\n",
    "    vLables.insert(0,'5')\n",
    "    X = np.arange(len(vLables))\n",
    "    pl.bar(X, vValues, align='center', width=0.5)\n",
    "    pl.xticks(X, vLables, rotation='vertical')\n",
    "    ymax = max(vValues)\n",
    "    pl.ylim([0, ymax + 10])\n",
    "    pl.xlim([0.5, X.size - 0.5])\n",
    "    pl.xlabel(\"Feature\")\n",
    "    pl.ylabel(\"Frequency\")\n",
    "    pl.suptitle(\"Feature ranking by frequency\", fontsize=14, fontweight='bold')\n",
    "    pl.axhline(y=np.mean(vValues), xmin=0, xmax=1, hold=None)\n",
    "    pl.show()\n",
    "    \n",
    "def removeModels(qtdDelete, dictQtd, dictModels):\n",
    "    vecFiles = []\n",
    "    for keyDict, valueDict in dictQtd.items():\n",
    "        if valueDict < qtdDelete:\n",
    "            vecFiles = list(set(vecFiles + dictModels[keyDict]))\n",
    "    return vecFiles\n",
    "\n",
    "    \n",
    "def removeModelsFromDics(listModels, dictQtd, dictModels):\n",
    "    for model in listModels:\n",
    "        for keyDict, valueDict in dictModels.items():\n",
    "            if model in valueDict:\n",
    "                idx = valueDict.index(model)\n",
    "                dictModels[keyDict].pop(idx)\n",
    "                dictQtd[keyDict] = dictQtd[keyDict] - 1\n",
    "    return dictQtd, dictModels\n",
    "\n",
    "def getNbModels(dictValues):\n",
    "    vecPaths = []\n",
    "    for indexDict, valueDict in dictValues.items():\n",
    "        for valuePathInfo in valueDict:\n",
    "            if valuePathInfo not in vecPaths:\n",
    "                vecPaths.append(valuePathInfo)\n",
    "    return vecPaths\n",
    "\n",
    "def get_qty_modelb_by_var_freq(max_val_freq_var, dqwzbs_A, dqvwzbvp_B):\n",
    "\n",
    "    qtd_models = np.zeros(max_val_freq_var)\n",
    "    aux = 0\n",
    "    while aux < max_val_freq_var:\n",
    "        dqwzbs_A_rem = copy.deepcopy(dqwzbs_A)\n",
    "        dqvwzbvp_B_rem = copy.deepcopy(dqvwzbvp_B)\n",
    "        dictModelsLimit = removeModels(aux, dqwzbs_A_rem, dqvwzbvp_B_rem)\n",
    "\n",
    "        dictQtdVarsLimit, dictFilesPathRest = removeModelsFromDics(dictModelsLimit, dqwzbs_A_rem, dqvwzbvp_B_rem)\n",
    "    \n",
    "        dictFilesPathRestWithoutZeros = removeVariablesNullValuesArr(dictFilesPathRest)\n",
    "\n",
    "    \n",
    "        qtdModelsAfterCut = getNbModels(dictFilesPathRestWithoutZeros)\n",
    "        qtd_models[aux] = len(qtdModelsAfterCut)\n",
    "        aux = aux + 1\n",
    "    return qtd_models\n",
    "\n",
    "def plot_line_freq_var_models(x_values,y_values):\n",
    "    plt.xlabel(\"Feature frequency\")\n",
    "    plt.ylabel(\"Number of models\")\n",
    "    plt.suptitle(\"Feature importance\", fontsize=14, fontweight='bold')\n",
    "    plt.plot(x_values, y_values)\n",
    "    plt.show()\n",
    "    \n",
    "def get_log_by_dict(dict_values):\n",
    "    list_log_val = []\n",
    "    for key, value in dict_values.iteritems():\n",
    "        for val in value:\n",
    "            if val not in list_log_val:\n",
    "                list_log_val.append(val)\n",
    "    return list_log_val\n",
    "#End fonctions------------"
   ]
  },
  {
   "cell_type": "markdown",
   "metadata": {
    "deletable": true,
    "editable": true
   },
   "source": [
    "## Exploration of model complexity space: Rules and variables-per-rule"
   ]
  },
  {
   "cell_type": "markdown",
   "metadata": {
    "deletable": true,
    "editable": true
   },
   "source": [
    "During the first part of the laboratory we have selected the best parameter values for fitness weights (i.e., RMSE, size, sensitivity, and specificity). Now we want to explore the model complexity space, i.e., the number of rules and variables per rule of the models. To do this open the script that we sent you (MileRef.fs) and modify so as to:\n",
    "- set the fitness weights with the values chosen in the first part\n",
    "- set the size of both populations to 120 and run lengths to 200 generations\n",
    "- perform a grid search with the following parameters:\n",
    "    - number of rules: 1, 3, and 5\n",
    "    - number of variables per rule: 1, 3, and 5\n",
    "- repeat each experience 5 times\n",
    "    \n",
    "Note: A deeper exploration would require exploring some more combinations of parameters as well as, either or both, running more generations and using bigger populations. This would effect, nevertheless, the computational cost.\n",
    "\n",
    "#### Before continuing:\n",
    "Once finished, you should put all the <u>log files</u> in the same directory (i.e., those obtained in the first part plus the newly obtained). "
   ]
  },
  {
   "cell_type": "markdown",
   "metadata": {
    "deletable": true,
    "editable": true
   },
   "source": [
    "## Model selection 1: filtering by performance"
   ]
  },
  {
   "cell_type": "markdown",
   "metadata": {
    "deletable": true,
    "editable": true
   },
   "source": [
    "The first step in model selection seeks at eliminating the worst-performing models. To do so, a simple trheshold is applied to both criteria Sensitivity and Specificity.\n",
    "\n",
    "The script in the cell below will, first, ask you for the following three paths:\n",
    "- The directory of log files\n",
    "- The path to the dataset (mile)\n",
    "- A file (with path) to save the selected models\n",
    "\n",
    "After the execution of the next cell you will obtain (1) the distribution of your models according to their sensitivity and specificity, (2) a table ranking the most frequent features (number of models where they appear), and (3) a histogram that shows you the number of models that would remain after filtering according to the threshold used."
   ]
  },
  {
   "cell_type": "code",
   "execution_count": 2,
   "metadata": {
    "collapsed": false,
    "deletable": true,
    "editable": true,
    "scrolled": false
   },
   "outputs": [
    {
     "name": "stdout",
     "output_type": "stream",
     "text": [
      "Log file path: \n",
      " E.g: /home/mlbd/Desktop/mile/logs (Enter to select)\n",
      " Logs Documents path: /home/mlbd/Desktop/Mile/logsC/logs\n",
      "---------------------------------------\n",
      "Dataset path: \n",
      " E.g: /home/mlbd/Desktop/FUGE/mile/Mile_train.csv (Enter to select)\n",
      " DataSet path: /home/mlbd/Desktop/Mile/Mile.csv\n",
      "---------------------------------------\n",
      "Path to save the models: \n",
      " E.g: /home/mlbd/Desktop/MLBD/PathsSystems.csv (Enter to select)\n",
      " Path Systems: /home/mlbd/Desktop/Mile/Path.csv\n",
      "---------------------------------------\n"
     ]
    },
    {
     "data": {
      "image/png": "[encoded data removed]",
      "text/plain": [
       "<matplotlib.figure.Figure at 0x7fa71421bb50>"
      ]
     },
     "metadata": {},
     "output_type": "display_data"
    },
    {
     "name": "stdout",
     "output_type": "stream",
     "text": [
      "             name  frequency    percent\n",
      "0       210487_at         17  54.838710\n",
      "1       207550_at         17  54.838710\n",
      "2       243363_at         17  54.838710\n",
      "3      1552892_at         16  51.612903\n",
      "4       213539_at         16  51.612903\n",
      "5       203047_at         16  51.612903\n",
      "6       235333_at         15  48.387097\n",
      "7       221349_at         15  48.387097\n",
      "8     204619_s_at         15  48.387097\n",
      "9       203063_at         15  48.387097\n",
      "10    202123_s_at         15  48.387097\n",
      "11     1558871_at         15  48.387097\n",
      "12      209369_at         15  48.387097\n",
      "13    201809_s_at         15  48.387097\n",
      "14      205372_at         15  48.387097\n",
      "15      229738_at         15  48.387097\n",
      "16    206398_s_at         14  45.161290\n",
      "17    243618_s_at         14  45.161290\n",
      "18    211031_s_at         14  45.161290\n",
      "19      227646_at         14  45.161290\n",
      "20      201540_at         14  45.161290\n",
      "21      221969_at         14  45.161290\n",
      "22    216379_x_at         14  45.161290\n",
      "23    243462_s_at         14  45.161290\n",
      "24      227998_at         14  45.161290\n",
      "25    221558_s_at         14  45.161290\n",
      "26      205508_at         14  45.161290\n",
      "27      205769_at         14  45.161290\n",
      "28      200910_at         14  45.161290\n",
      "29    221581_s_at         14  45.161290\n",
      "..            ...        ...        ...\n",
      "180   200985_s_at          8  25.806452\n",
      "181     204192_at          8  25.806452\n",
      "182     202331_at          8  25.806452\n",
      "183   206760_s_at          8  25.806452\n",
      "184     226450_at          8  25.806452\n",
      "185    1557534_at          8  25.806452\n",
      "186     201876_at          7  22.580645\n",
      "187     213147_at          7  22.580645\n",
      "188     201416_at          7  22.580645\n",
      "189  1553991_s_at          7  22.580645\n",
      "190     203184_at          7  22.580645\n",
      "191   210783_x_at          7  22.580645\n",
      "192     202242_at          7  22.580645\n",
      "193     226282_at          7  22.580645\n",
      "194   205157_s_at          7  22.580645\n",
      "195     225660_at          7  22.580645\n",
      "196   202095_s_at          7  22.580645\n",
      "197  1552364_s_at          6  19.354839\n",
      "198     235099_at          6  19.354839\n",
      "199   215925_s_at          6  19.354839\n",
      "200   221286_s_at          6  19.354839\n",
      "201     206478_at          6  19.354839\n",
      "202     206759_at          6  19.354839\n",
      "203   222146_s_at          6  19.354839\n",
      "204     205376_at          6  19.354839\n",
      "205     227949_at          6  19.354839\n",
      "206   201625_s_at          6  19.354839\n",
      "207   202723_s_at          5  16.129032\n",
      "208    1561690_at          5  16.129032\n",
      "209       1431_at          5  16.129032\n",
      "\n",
      "[210 rows x 3 columns]\n"
     ]
    },
    {
     "data": {
      "image/png": "[encoded data removed]",
      "text/plain": [
       "<matplotlib.figure.Figure at 0x7fa6e9eb1710>"
      ]
     },
     "metadata": {},
     "output_type": "display_data"
    },
    {
     "name": "stdout",
     "output_type": "stream",
     "text": [
      "---------------\n",
      "you have 31 models and 210 variables\n",
      "---------------\n"
     ]
    }
   ],
   "source": [
    "print \"Log file path: \"\n",
    "print \" E.g: /home/mlbd/Desktop/mile/logs (Enter to select)\"\n",
    "pathLogs = raw_input(\" Logs Documents path: \")\n",
    "print \"---------------------------------------\"\n",
    "print \"Dataset path: \"\n",
    "print \" E.g: /home/mlbd/Desktop/FUGE/mile/Mile_train.csv (Enter to select)\"\n",
    "pathDataSet = raw_input(\" DataSet path: \")\n",
    "print \"---------------------------------------\"\n",
    "print \"File to save the models: \"\n",
    "print \" E.g: /home/mlbd/Desktop/MLBD/PathsSystems.csv (Enter to select)\"\n",
    "pathWriteFilesSyst = raw_input(\" Path Systems: \")\n",
    "print \"---------------------------------------\"\n",
    "\n",
    "listLogs =  getAllLogs(pathLogs, \".csv\")\n",
    "\n",
    "vecSensitivity, vecSpecificity = getResultsDrawGrafSpeSen(listLogs)\n",
    "setDrawSenSpe(vecSensitivity, vecSpecificity)\n",
    "\n",
    "dictVars, dictPath = getDictVars(pathDataSet)\n",
    "dictVarsBySystem = dictVars.copy()\n",
    "dictQtdVar, dictVarsBySystem, dictPathVar = countVariables(dictVars, dictVarsBySystem, listLogs, dictPath)\n",
    "\n",
    "\n",
    "write_datafram_var(len(listLogs), dictVarsBySystem)\n",
    "\n",
    "print \"---------------\"\n",
    "print \"you have \" + str(len(listLogs)) + \" models and \" + str(np.count_nonzero(dictVarsBySystem.values())) + \" variables\"\n",
    "print \"---------------\"\n",
    "\n",
    "#Threshold range\n",
    "vec_value_threshold = np.arange(0.0, 1.0, 0.05)\n",
    "vec_qty_threshold = np.zeros(len(vec_value_threshold))\n",
    "aux = 0\n",
    "for values in vec_value_threshold:\n",
    "    listBestSystms = getBestSystem(float(values), float(values), listLogs)\n",
    "    vec_qty_threshold[aux] = len(listBestSystms)\n",
    "    aux = aux +1\n",
    "\n",
    "plot_histogram(vec_qty_threshold, vec_value_threshold)\n"
   ]
  },
  {
   "cell_type": "markdown",
   "metadata": {
    "deletable": true,
    "editable": true
   },
   "source": [
    "Now, before running the next cell, analyze the results you just obtained and select a threshold value that allows you to keep around <b>one third</b> of the models (but, at least 30%). Write below the selected threshold value.\n",
    "- Note 1: if necessary you may modify the vector of performance thresholds so as to fine tune the selection\n",
    "- Note 2: if you have too many rows in the table (i.e., too many variables), you can change the print in the method \"write_datafram_var\" (e.g., print df to print df.head(15))."
   ]
  },
  {
   "cell_type": "markdown",
   "metadata": {
    "deletable": true,
    "editable": true
   },
   "source": [
    "<p style=\"background-color:#AFB7FF;padding:3px\"><b>Write here your selected threshold value, comment very briefly your choice (was it straightforward to make? does it make sense? etc.)  </b></p>"
   ]
  },
  {
   "cell_type": "code",
   "execution_count": 3,
   "metadata": {
    "collapsed": false,
    "deletable": true,
    "editable": true,
    "scrolled": false
   },
   "outputs": [
    {
     "name": "stdout",
     "output_type": "stream",
     "text": [
      "---------------\n",
      "you have 31 models and 210 variables\n",
      "---------------\n",
      " Enter your threshold value: (default: 0.75)\n",
      "Value: 0.9\n",
      "0.9\n"
     ]
    },
    {
     "data": {
      "image/png": "[encoded data removed]",
      "text/plain": [
       "<matplotlib.figure.Figure at 0x7fa717ed9fd0>"
      ]
     },
     "metadata": {},
     "output_type": "display_data"
    },
    {
     "name": "stdout",
     "output_type": "stream",
     "text": [
      "             name  frequency    percent\n",
      "0       202085_at          6  66.666667\n",
      "1       231935_at          5  55.555556\n",
      "2       210487_at          5  55.555556\n",
      "3       205372_at          5  55.555556\n",
      "4     202123_s_at          5  55.555556\n",
      "5       212012_at          5  55.555556\n",
      "6       203585_at          5  55.555556\n",
      "7     206398_s_at          5  55.555556\n",
      "8       235333_at          4  44.444444\n",
      "9     204619_s_at          4  44.444444\n",
      "10    216379_x_at          4  44.444444\n",
      "11   1553808_a_at          4  44.444444\n",
      "12     1552892_at          4  44.444444\n",
      "13      209369_at          4  44.444444\n",
      "14    209170_s_at          4  44.444444\n",
      "15     44790_s_at          4  44.444444\n",
      "16      206674_at          4  44.444444\n",
      "17    221558_s_at          4  44.444444\n",
      "18      201417_at          4  44.444444\n",
      "19      205081_at          4  44.444444\n",
      "20      221349_at          4  44.444444\n",
      "21    203355_s_at          4  44.444444\n",
      "22      203787_at          4  44.444444\n",
      "23   1555705_a_at          4  44.444444\n",
      "24    215543_s_at          4  44.444444\n",
      "25      243780_at          4  44.444444\n",
      "26    233467_s_at          4  44.444444\n",
      "27      213539_at          4  44.444444\n",
      "28    201809_s_at          4  44.444444\n",
      "29    202760_s_at          4  44.444444\n",
      "..            ...        ...        ...\n",
      "163   215118_s_at          1  11.111111\n",
      "164   205157_s_at          1  11.111111\n",
      "165   202286_s_at          1  11.111111\n",
      "166     204591_at          1  11.111111\n",
      "167    1553369_at          1  11.111111\n",
      "168     200661_at          1  11.111111\n",
      "169   204494_s_at          1  11.111111\n",
      "170   206574_s_at          1  11.111111\n",
      "171   213370_s_at          1  11.111111\n",
      "172     227377_at          1  11.111111\n",
      "173   205529_s_at          1  11.111111\n",
      "174     227949_at          1  11.111111\n",
      "175     206363_at          1  11.111111\n",
      "176     202331_at          1  11.111111\n",
      "177     225782_at          1  11.111111\n",
      "178   209604_s_at          1  11.111111\n",
      "179     205508_at          1  11.111111\n",
      "180   210948_s_at          1  11.111111\n",
      "181   210783_x_at          1  11.111111\n",
      "182   238021_s_at          1  11.111111\n",
      "183   206896_s_at          1  11.111111\n",
      "184   203435_s_at          1  11.111111\n",
      "185     204192_at          1  11.111111\n",
      "186   203936_s_at          1  11.111111\n",
      "187   202723_s_at          1  11.111111\n",
      "188   228831_s_at          1  11.111111\n",
      "189     206492_at          1  11.111111\n",
      "190     224772_at          1  11.111111\n",
      "191   208168_s_at          1  11.111111\n",
      "192     221773_at          1  11.111111\n",
      "\n",
      "[193 rows x 3 columns]\n"
     ]
    },
    {
     "data": {
      "image/png": "[encoded data removed]",
      "text/plain": [
       "<matplotlib.figure.Figure at 0x7fa6e9c98810>"
      ]
     },
     "metadata": {},
     "output_type": "display_data"
    },
    {
     "name": "stdout",
     "output_type": "stream",
     "text": [
      "---------------\n",
      "you have 9 models and 193 variables\n",
      "---------------\n"
     ]
    }
   ],
   "source": [
    "print \"---------------\"\n",
    "print \"Remond, you have now \" + str(len(listLogs)) + \" models and \" + str(np.count_nonzero(dictVarsBySystem.values())) + \" variables\"\n",
    "print \"---------------\"\n",
    "\n",
    "print \" Enter your perfromance (Sens&Spec) threshold value: (default: 0.75)\"\n",
    "threshold_val = raw_input(\"Value: \") or \"0.75\"\n",
    "threshold_val = float(threshold_val)\n",
    "print threshold_val\n",
    "\n",
    "#Get the systems that have more than threshold_val (based on sensitivity and specificity)\n",
    "listLogs = getBestSystem(threshold_val, threshold_val,listLogs)\n",
    "\n",
    "#Prepare the data for plotting the models\n",
    "vecSensitivity, vecSpecificity = getResultsDrawGrafSpeSen(listLogs)\n",
    "setDrawSenSpe(vecSensitivity, vecSpecificity)\n",
    "\n",
    "#Analyse the frequency of the variables of the systems selected\n",
    "dictVars, dictPath = getDictVars(pathDataSet)\n",
    "dictVarsBySystem = dictVars.copy()\n",
    "dictQtdVar, dictVarsBySystem, dictPathVar = countVariables(dictVars, dictVarsBySystem, listLogs, dictPath)\n",
    "\n",
    "#Write the information table about the variables\n",
    "write_datafram_var(len(listLogs), dictVarsBySystem)\n",
    "\n",
    "#Save the best systems\n",
    "dictQtdVarWithouZerosBySys = removeVariablesNull(dictVarsBySystem)\n",
    "dictQtdVarWithouZerosByVarPath = removeVariablesNullValuesArr(dictPathVar)\n",
    "  \n",
    "# writes the best systems in the \"pathWriteFilesSyst\" file\n",
    "writeFilesCSV(dictQtdVarWithouZerosByVarPath, pathWriteFilesSyst)\n",
    "\n",
    "#plot the histogram     \n",
    "labels, results = orderDictByVar(dictQtdVarWithouZerosBySys)\n",
    "generateGraph(results, labels)\n",
    "\n",
    "print \"---------------\"\n",
    "print \"After filtering you have \" + str(len(listLogs)) + \" models and \" + str(np.count_nonzero(dictVarsBySystem.values())) + \" variables\"\n",
    "print \"---------------\""
   ]
  },
  {
   "cell_type": "markdown",
   "metadata": {
    "deletable": true,
    "editable": true
   },
   "source": [
    "<p style=\"background-color:#AFEEEE;padding:3px\"><font size=\"4\"><b>1. </b></font>Analyse the results obtained (e.g., number of models, number of variables, ). What can you conclude? Discuss briefly</p>"
   ]
  },
  {
   "cell_type": "markdown",
   "metadata": {
    "deletable": true,
    "editable": true
   },
   "source": [
    "Your answer here"
   ]
  },
  {
   "cell_type": "markdown",
   "metadata": {
    "deletable": true,
    "editable": true
   },
   "source": [
    "## Model selection 2: filtering by frequency"
   ]
  },
  {
   "cell_type": "markdown",
   "metadata": {
    "deletable": true,
    "editable": true
   },
   "source": [
    "In the second step, we will use the frequency of the variables as criterion to perform model and feature selection.\n",
    "Running the cell below, you will obtain a plot representing the number of models remaining after filtering, according to a given frequency threshold applied. In this case, the filter works as follows: the variables that are less frequent than the threshold are marked to be eliminated and, consequently, all the models using them are eliminated from the pool of models.\n",
    "<p>Again, select a value that allows keeping around a third of the models. (So, you will then have around 10% of the original pool of models.)"
   ]
  },
  {
   "cell_type": "code",
   "execution_count": 4,
   "metadata": {
    "collapsed": false,
    "deletable": true,
    "editable": true,
    "scrolled": false
   },
   "outputs": [
    {
     "data": {
      "image/png": "[encoded data removed]",
      "text/plain": [
       "<matplotlib.figure.Figure at 0x7fa717ed9050>"
      ]
     },
     "metadata": {},
     "output_type": "display_data"
    }
   ],
   "source": [
    "value = np.amax(results)\n",
    "\n",
    "dictQtdVarWithouZerosBySys_rem = copy.deepcopy(dictQtdVarWithouZerosBySys)\n",
    "dictQtdVarWithouZerosByVarPath_rem = copy.deepcopy(dictQtdVarWithouZerosByVarPath)\n",
    "\n",
    "\n",
    "vec_qty_models = get_qty_modelb_by_var_freq(value, dictQtdVarWithouZerosBySys_rem, dictQtdVarWithouZerosByVarPath_rem)\n",
    "x_values = np.arange(0, value, 1)\n",
    "\n",
    "\n",
    "plot_line_freq_var_models(x_values, vec_qty_models)\n",
    "\n"
   ]
  },
  {
   "cell_type": "markdown",
   "metadata": {
    "deletable": true,
    "editable": true
   },
   "source": [
    "<p style=\"background-color:#AFEEEE;padding:3px\"><font size=\"4\"><b>2. </b></font> One simple option would be to set the filter to 1 (i.e., eliminating all the variables that appear only once). Do you think it is important to delete the models that contain features that appear just once? Why? When it is important to save them?</p>"
   ]
  },
  {
   "cell_type": "markdown",
   "metadata": {
    "deletable": true,
    "editable": true
   },
   "source": [
    "Your answer here"
   ]
  },
  {
   "cell_type": "markdown",
   "metadata": {
    "deletable": true,
    "editable": true
   },
   "source": [
    "<p style=\"background-color:#AFB7FF;padding:3px\"><b>Write here the frequency threshold your choose to use. Comment briefly your choice.</b></p>"
   ]
  },
  {
   "cell_type": "code",
   "execution_count": 5,
   "metadata": {
    "collapsed": false,
    "deletable": true,
    "editable": true
   },
   "outputs": [
    {
     "name": "stdout",
     "output_type": "stream",
     "text": [
      "---------------\n",
      "you have 9 models and 193 variables\n",
      "---------------\n",
      "Enter the feature frequency limit: \n",
      " Default: 0 (Enter to select)\n",
      " Limit: 2\n"
     ]
    },
    {
     "data": {
      "image/png": "[encoded data removed]",
      "text/plain": [
       "<matplotlib.figure.Figure at 0x7fa6ec6d3190>"
      ]
     },
     "metadata": {},
     "output_type": "display_data"
    },
    {
     "data": {
      "image/png": "[encoded data removed]",
      "text/plain": [
       "<matplotlib.figure.Figure at 0x7fa6e9349310>"
      ]
     },
     "metadata": {},
     "output_type": "display_data"
    },
    {
     "name": "stdout",
     "output_type": "stream",
     "text": [
      "            name  frequency    percent\n",
      "0      210487_at          2  22.222222\n",
      "1   1559263_s_at          1  11.111111\n",
      "2    215543_s_at          1  11.111111\n",
      "3      202085_at          1  11.111111\n",
      "4    211071_s_at          1  11.111111\n",
      "5    221558_s_at          1  11.111111\n",
      "6      201417_at          1  11.111111\n",
      "7     1552892_at          1  11.111111\n",
      "8      205372_at          1  11.111111\n",
      "9    201809_s_at          1  11.111111\n",
      "10   227432_s_at          1  11.111111\n",
      "11   203355_s_at          1  11.111111\n",
      "12   243618_s_at          1  11.111111\n",
      "13   204487_s_at          1  11.111111\n",
      "14     221349_at          1  11.111111\n",
      "15     203585_at          1  11.111111\n",
      "16    1554283_at          1  11.111111\n",
      "17     203787_at          1  11.111111\n",
      "18  1555705_a_at          1  11.111111\n",
      "19     203373_at          1  11.111111\n",
      "20     231935_at          1  11.111111\n",
      "21   208651_x_at          1  11.111111\n",
      "22   206398_s_at          1  11.111111\n",
      "23   211796_s_at          1  11.111111\n",
      "---------------\n",
      "you have 2 models and 24 variables\n",
      "---------------\n"
     ]
    }
   ],
   "source": [
    "print \"---------------\"\n",
    "print \"you have \" + str(len(listLogs)) + \" models and \" + str(np.count_nonzero(dictVarsBySystem.values())) + \" variables\"\n",
    "print \"---------------\"\n",
    "print \"Enter the feature frequency limit: \"\n",
    "print \" Default: 0 (Enter to select)\"\n",
    "limitCut = raw_input(\" Limit: \") or int(0)\n",
    "\n",
    "#Copy the data that contain the informations about the frequency and log path where\n",
    "#appear each variable\n",
    "dictQtdVarWithouZerosBySys_rem = dictQtdVarWithouZerosBySys.copy()\n",
    "dictQtdVarWithouZerosByVarPath_rem = dictQtdVarWithouZerosByVarPath.copy()\n",
    "\n",
    "#Remove the models that the variables don't have the minimum frequency\n",
    "dictModelsLimit = removeModels(int(limitCut), dictQtdVarWithouZerosBySys_rem, dictQtdVarWithouZerosByVarPath_rem)\n",
    "dictQtdVarsLimit, dictFilesPathRest = removeModelsFromDics(dictModelsLimit, dictQtdVarWithouZerosBySys_rem, dictQtdVarWithouZerosByVarPath_rem)\n",
    "dictQtdVarsLimitWithoutZero = removeVariablesNull(dictQtdVarsLimit)  \n",
    "dictFilesPathRestWithoutZeros = removeVariablesNullValuesArr(dictFilesPathRest)\n",
    " \n",
    "\n",
    "#qtdModelsBeforeReduction = np.sum(results)\n",
    "labels, results = orderDictByVar(dictQtdVarsLimitWithoutZero)\n",
    "  \n",
    "#Generate the histogram with the variables frequency\n",
    "generateGraph(results, labels)\n",
    "\n",
    "#plot sensitivity specificity graph\n",
    "log_list_val = get_log_by_dict(dictFilesPathRestWithoutZeros)\n",
    "vecSensitivity, vecSpecificity = getResultsDrawGrafSpeSen(log_list_val)\n",
    "setDrawSenSpe(vecSensitivity, vecSpecificity)\n",
    "\n",
    "#Wite the table that contain the frequency information of each variable\n",
    "dictVars, dictPath = getDictVars(pathDataSet)\n",
    "dictVarsBySystem = dictVars.copy()\n",
    "dictQtdVar, dictVarsBySystem, dictPathVar = countVariables(dictVars, dictVarsBySystem, log_list_val, dictPath)\n",
    "write_datafram_var(len(listLogs), dictVarsBySystem)\n",
    "\n",
    "\n",
    "# writes the best systems in the \"pathWriteFilesSyst\" file\n",
    "writeFilesCSVDS(log_list_val, pathWriteFilesSyst)\n",
    "\n",
    "print \"---------------\"\n",
    "print \"you have \" + str(len(log_list_val)) + \" models and \" +  str(np.count_nonzero(dictVarsBySystem.values())) + \" variables\"\n",
    "print \"---------------\""
   ]
  },
  {
   "cell_type": "markdown",
   "metadata": {
    "deletable": true,
    "editable": true
   },
   "source": [
    "## Validation"
   ]
  },
  {
   "cell_type": "markdown",
   "metadata": {
    "deletable": true,
    "editable": true
   },
   "source": [
    "Now, open the file containing your saved models (the one defined during the first step). Then, open the corresponding fuzzy model in FUGE. (e.g.: if you have: ZurichSIB2016_15:45:19.424863638Gen400_Pop200_Rules3_Elt5_CX0.9_MutI0.2_MutB0.025_FixedV0_Fit0.820597.<b>csv</b> the corresponding model is in the fuzzy systems path with the same name but finished with <b>.fs</b>)\n",
    "\n",
    "To do this:\n",
    "- open FUGE-> section Fuzzy System -> open. \n",
    "- open the validation set: Fuge-> section Fuzzy System -> Evaluate"
   ]
  },
  {
   "cell_type": "markdown",
   "metadata": {
    "deletable": true,
    "editable": true
   },
   "source": [
    "<p style=\"background-color:#AFEEEE;padding:3px\"><font size=\"4\"><b>3. </b></font>Comparing the results between the test and train test, what do you conclude?</p>"
   ]
  },
  {
   "cell_type": "markdown",
   "metadata": {
    "deletable": true,
    "editable": true
   },
   "source": [
    "Your answer here"
   ]
  },
  {
   "cell_type": "markdown",
   "metadata": {
    "deletable": true,
    "editable": true
   },
   "source": [
    "<p style=\"background-color:#AFEEEE;padding:3px\"><font size=\"4\"><b>4. </b></font>Do you think, this approach is good to select the best model? Why? What could you suggest to improve it?</p>"
   ]
  },
  {
   "cell_type": "markdown",
   "metadata": {
    "deletable": true,
    "editable": true
   },
   "source": [
    "Your answer here"
   ]
  },
  {
   "cell_type": "code",
   "execution_count": null,
   "metadata": {
    "collapsed": true,
    "deletable": true,
    "editable": true
   },
   "outputs": [],
   "source": []
  }
 ],
 "metadata": {
  "anaconda-cloud": {},
  "kernelspec": {
   "display_name": "Python 2",
   "language": "python",
   "name": "python2"
  },
  "language_info": {
   "codemirror_mode": {
    "name": "ipython",
    "version": 2
   },
   "file_extension": ".py",
   "mimetype": "text/x-python",
   "name": "python",
   "nbconvert_exporter": "python",
   "pygments_lexer": "ipython2",
   "version": "2.7.13"
  }
 },
 "nbformat": 4,
 "nbformat_minor": 2
}
