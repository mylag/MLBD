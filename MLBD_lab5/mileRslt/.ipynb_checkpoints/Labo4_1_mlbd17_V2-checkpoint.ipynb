{
 "cells": [
  {
   "cell_type": "markdown",
   "metadata": {
    "deletable": true,
    "editable": true
   },
   "source": [
    "# Labo FUGE - Exercises"
   ]
  },
  {
   "cell_type": "markdown",
   "metadata": {
    "deletable": true,
    "editable": true
   },
   "source": [
    "The aim of this labo is to explore the use of FUGE as a modelling tool for selecting and characterizing diagnostic biomarkers."
   ]
  },
  {
   "cell_type": "markdown",
   "metadata": {
    "deletable": true,
    "editable": true
   },
   "source": [
    "## Exploring the fitness (performance) configuration"
   ]
  },
  {
   "cell_type": "markdown",
   "metadata": {
    "deletable": true,
    "editable": true
   },
   "source": [
    "In this part you are going to select the weights (relative importance) of 4 performance criteria (the most common and useful ones) used in FUGE. For this purpose you are provided with two scripts (to be executed from FUGE): \n",
    "- DS_conf.fs: exploration of two trade-offs: \n",
    "-- numeric (RMSE) versus diagnostic (Sens/Spec) and \n",
    "-- Sensitivity versus Specificity\n",
    "- DS_size.fs: exploration of a fitness penalizing the size/complexity of the models\n",
    "<p>(Note: A third script, DS_Sen_Spe, may be used to further explore the sensitivity versus specificity trade-off)\n",
    "\n",
    "Don't forget to control in the script that all the parameters are correctly configured according to the problem under study (<i>in particular those related with the number of bits used to code the genomes</i>). \n",
    "\n",
    "For this part we use the \"MILE\" dataset, that contains microarray (gene expression) data from a Leukemia study. The dataset is  splitted in two subsets: training and test. As you may know, the training set is used to train the models and the test set is used to validate the capacity of such model(s) to correctly predict on previously unseen cases."
   ]
  },
  {
   "cell_type": "markdown",
   "metadata": {
    "deletable": true,
    "editable": true
   },
   "source": [
    "The code bellow allows performing some performance analyses using, as input, the log files of the experiences conducted on FUGE."
   ]
  },
  {
   "cell_type": "code",
   "execution_count": null,
   "metadata": {
    "collapsed": false,
    "deletable": true,
    "editable": true
   },
   "outputs": [],
   "source": [
    "import os, glob, time\n",
    "import matplotlib.pyplot as plt\n",
    "import numpy as np\n",
    "import csv\n",
    "import re\n",
    "import pandas as pd\n",
    "\n",
    "\n",
    "\n",
    "#Put the files ordered by experiences in date_file_list\n",
    "def getFilesFuzzySystem(path, typeFile):\n",
    "    date_file_list = []\n",
    "    for folder in glob.glob(path):\n",
    "        print \"folder =\", folder\n",
    "        for file in glob.glob(folder + typeFile): \n",
    "            stats = os.stat(file)\n",
    "            lastmod_date = time.localtime(stats[8])\n",
    "            date_file_tuple = lastmod_date, file\n",
    "            date_file_list.append(date_file_tuple)\n",
    "    date_file_list.sort()\n",
    "    return date_file_list\n",
    "\n",
    "#Get the information in the log file by label \"value_need\"\n",
    "def getInformationByFileLog(indexId, value_need):\n",
    "    filePath = listLogs[indexId][1]\n",
    "    with open(filePath, 'rb') as csvfile:\n",
    "        spamreader = csv.reader(csvfile, delimiter=';', quotechar='|')\n",
    "        for row in spamreader:\n",
    "            if len(row) >=2:\n",
    "                if value_need in row[0]:\n",
    "                    return float(row[1])\n",
    "                \n",
    "#The three next functions are used to calculate the measure \n",
    "#of performance that we need during this laboratory\n",
    "def separateFilesByExp():\n",
    "    global qtyExpGenerations\n",
    "    global qtyExpPop\n",
    "    global qtyExpRules\n",
    "    global qtyExpVar\n",
    "    global alphaValues\n",
    "    global qtyExp\n",
    "    \n",
    "    qtyExplorations = qtyExpGenerations * qtyExpPop * qtyExpRules * qtyExpVar\n",
    "\n",
    "    qtyElemsExp = qtyExplorations * qtyExp * (len(alphaValues)*2-1)\n",
    "    \n",
    "    ExpNum = 1\n",
    "    \n",
    "    firstElem = qtyElemsExp * (ExpNum-1)\n",
    "    lastElem = qtyElemsExp * ExpNum\n",
    "    \n",
    "    idxElemStart = firstElem\n",
    "    idxElemEnd = idxElemStart + qtyExp\n",
    "    #array that represent RMSE value | Sen/spe | mean value\n",
    "    matrixResults = np.zeros(((qtyElemsExp/qtyExp), 6))\n",
    "    \n",
    "    positionMatrixElement = 0\n",
    "    aux = firstElem\n",
    "    auxExpNumber = 0 \n",
    "    rmseValuePosi = 0\n",
    "    speSenValueCross = False\n",
    "    while aux < lastElem:\n",
    "        resultSen = 0.0\n",
    "        resultSpe = 0.0\n",
    "        resultAcc = 0.0\n",
    "        resultF1 = 0.0\n",
    "        resultF1Sen = 0.0\n",
    "        resultF1PPV = 0.0\n",
    "        while idxElemStart < idxElemEnd:\n",
    "            resultSen = resultSen + getInformationByFileLog(idxElemStart, \"#Sensitivity\")\n",
    "            resultSpe = resultSpe + getInformationByFileLog(idxElemStart, \"#Specificity\")\n",
    "            resultAcc = resultAcc + getInformationByFileLog(idxElemStart, \"#Accuracy\")\n",
    "            \n",
    "            \n",
    "            resultF1Sen = getInformationByFileLog(idxElemStart, \"#Sensitivity\")\n",
    "            resultF1PPV = getInformationByFileLog(idxElemStart, \"#PPV\")\n",
    "            resultF1 = resultF1 + (2.0*((resultF1Sen*resultF1PPV)/(resultF1Sen+resultF1PPV)))\n",
    "            idxElemStart = idxElemStart +1\n",
    "        resultSen = resultSen/qtyExp\n",
    "        resultSpe = resultSpe/qtyExp\n",
    "        resultAcc = resultAcc/qtyExp\n",
    "        resultF1 = resultF1/qtyExp\n",
    "        aux = idxElemEnd\n",
    "        idxElemEnd = idxElemStart + qtyExp\n",
    "        matrixResults[positionMatrixElement][2] = resultSen\n",
    "        matrixResults[positionMatrixElement][3] = resultSpe\n",
    "        matrixResults[positionMatrixElement][4] = resultAcc\n",
    "        matrixResults[positionMatrixElement][5] = resultF1\n",
    "        if (speSenValueCross == False):\n",
    "            matrixResults[positionMatrixElement][0] = 1.0\n",
    "            matrixResults[positionMatrixElement][1] = alphaValues[rmseValuePosi]\n",
    "            rmseValuePosi = rmseValuePosi +1\n",
    "            if rmseValuePosi >= len(alphaValues):\n",
    "                speSenValueCross = True\n",
    "                rmseValuePosi = rmseValuePosi -1\n",
    "        else:\n",
    "            rmseValuePosi = rmseValuePosi-1\n",
    "            matrixResults[positionMatrixElement][0] = alphaValues[rmseValuePosi]\n",
    "            matrixResults[positionMatrixElement][1] = 1.0\n",
    "        positionMatrixElement = positionMatrixElement +1\n",
    "        \n",
    "    \n",
    "    \n",
    "    return matrixResults\n",
    "\n",
    "\n",
    "def separateFilesByExpSize():\n",
    "    global qtyExpGenerations\n",
    "    global qtyExpPop\n",
    "    global qtyExpRules\n",
    "    global qtyExpVar\n",
    "    global alphaValuesSize\n",
    "    global qtyExp\n",
    "    \n",
    "    qtyExplorations = qtyExpGenerations * qtyExpPop * qtyExpRules * qtyExpVar\n",
    "\n",
    "    qtyElemsExp = qtyExplorations * qtyExp * len(alphaValuesSize)-1\n",
    "    \n",
    "    ExpNum = 1\n",
    "    \n",
    "    firstElem = qtyElemsExp * (ExpNum-1)\n",
    "    lastElem = qtyElemsExp * ExpNum\n",
    "    \n",
    "    idxElemStart = firstElem\n",
    "    idxElemEnd = idxElemStart + qtyExp\n",
    "    matrixResultsSize = np.zeros((len(alphaValuesSize),4))\n",
    "    \n",
    "    \n",
    "    positionMatrixElement = 0\n",
    "    aux = firstElem\n",
    "    auxExpNumber = 0 \n",
    "    rmseValuePosi = 0\n",
    "    speSenValueCross = False\n",
    "    while aux < lastElem:\n",
    "        resultSen = 0.0\n",
    "        resultSpe = 0.0\n",
    "        resultAcc = 0.0\n",
    "        resultF1 = 0.0\n",
    "        resultF1Sen = 0.0\n",
    "        resultF1PPV = 0.0\n",
    "        while idxElemStart < idxElemEnd:\n",
    "            resultSen = resultSen + getInformationByFileLog(idxElemStart, \"#Sensitivity\")\n",
    "            resultSpe = resultSpe + getInformationByFileLog(idxElemStart, \"#Specificity\")\n",
    "            resultAcc = resultAcc + getInformationByFileLog(idxElemStart, \"#Accuracy\")\n",
    "            \n",
    "            resultF1Sen = getInformationByFileLog(idxElemStart, \"#Sensitivity\")\n",
    "            resultF1PPV = getInformationByFileLog(idxElemStart, \"#PPV\")\n",
    "            resultF1 =  resultF1 + (2.0*((resultF1Sen*resultF1PPV)/(resultF1Sen+resultF1PPV)))\n",
    "            idxElemStart = idxElemStart +1\n",
    "        resultSen = resultSen/qtyExp\n",
    "        resultSpe = resultSpe/qtyExp\n",
    "        resultAcc = resultAcc/qtyExp\n",
    "        resultF1 = resultF1/qtyExp\n",
    "        aux = idxElemEnd\n",
    "        idxElemEnd = idxElemStart + qtyExp\n",
    "        matrixResultsSize[positionMatrixElement][0] = resultSen\n",
    "        matrixResultsSize[positionMatrixElement][1] = resultSpe\n",
    "        matrixResultsSize[positionMatrixElement][2] = resultAcc\n",
    "        matrixResultsSize[positionMatrixElement][3] = resultF1\n",
    "    \n",
    "        positionMatrixElement = positionMatrixElement +1\n",
    "    \n",
    "    return matrixResultsSize"
   ]
  },
  {
   "cell_type": "markdown",
   "metadata": {
    "deletable": true,
    "editable": true
   },
   "source": [
    "### Exploring the trade-off between RMSE, Sensitivity, and Specificity\n",
    "The script <i>DS_conf</i> explores different combinations of three important performance criteria (fitness functions):\n",
    "- RMSE or Root Mean Squared Error\n",
    "- Sensitivity, or true-positive ratio\n",
    "- Specificity, or true-negative ratio.\n",
    "\n",
    "Examine the script to understand the kind of exploration that is performed. Then execute it.\n",
    "### Warning: this is the most computationally heavy part of this practice, expect it to take several hours to finish (between 5 and 20)."
   ]
  },
  {
   "cell_type": "markdown",
   "metadata": {
    "deletable": true,
    "editable": true
   },
   "source": [
    "Once the script has finished, you may obtain some important statistics about the experiments by means of the code below.<p>\n",
    "<b>Notes:</b>\n",
    "- You may change the FUGE script values in order to explore other fitness configurations.\n",
    "- However, every time you execute that script, you should put the log files in a different directory\n",
    "- The code below must also be adapted to match the values in FUGE "
   ]
  },
  {
   "cell_type": "code",
   "execution_count": null,
   "metadata": {
    "collapsed": false,
    "deletable": true,
    "editable": true
   },
   "outputs": [],
   "source": [
    "#Default values\n",
    "qtyExpGenerations = 1\n",
    "qtyExpPop = 1\n",
    "qtyExpRules = 1\n",
    "qtyExpVar = 1\n",
    "#Change here\n",
    "alphaValues = [0.0, 0.2, 0.4, 0.6, 0.8, 1.0]\n",
    "#Quantity of experiences by configuration\n",
    "qtyExp = 5\n",
    "#Path where it save your logs\n",
    "pathLogs = \"/home/mlbd/Desktop/mileRslt/logs\""
   ]
  },
  {
   "cell_type": "code",
   "execution_count": null,
   "metadata": {
    "collapsed": false,
    "deletable": true,
    "editable": true
   },
   "outputs": [],
   "source": [
    "listLogs =  getFilesFuzzySystem(pathLogs, '/*.csv') \n",
    "print \"Number of models: \" + str(len(listLogs))"
   ]
  },
  {
   "cell_type": "markdown",
   "metadata": {
    "deletable": true,
    "editable": true
   },
   "source": [
    "The following table shows the average performance figures obtained for each configuration"
   ]
  },
  {
   "cell_type": "code",
   "execution_count": null,
   "metadata": {
    "collapsed": false,
    "deletable": true,
    "editable": true
   },
   "outputs": [],
   "source": [
    "matrixHeatMp = separateFilesByExp()\n",
    "pd.DataFrame(data=matrixHeatMp,columns=['RMSE', 'Sen/Spe', 'Sen', 'Spe', 'Acc', 'F1'])  # 1st row as the column names"
   ]
  },
  {
   "cell_type": "markdown",
   "metadata": {
    "deletable": true,
    "editable": true
   },
   "source": [
    "<b>Exercise</b>: Analyze the code of the function <i>separateFilesByExp</i>. Adapt it so as to produce boxplots instead of, or inaddition to, the averages presented in the table."
   ]
  },
  {
   "cell_type": "markdown",
   "metadata": {
    "deletable": true,
    "editable": true
   },
   "source": [
    "<p style=\"background-color:#AFEEEE;padding:3px\"><font size=\"4\"><b>1. </b></font>Analyze the results in the table and the boxplots. On this base, select weight values for the 3 studied parameters (RMSE, Sens, Spec)? Justify your choice?</p>"
   ]
  },
  {
   "cell_type": "markdown",
   "metadata": {
    "deletable": true,
    "editable": true
   },
   "source": [
    "Your answer here"
   ]
  },
  {
   "cell_type": "markdown",
   "metadata": {
    "collapsed": false,
    "deletable": true,
    "editable": true
   },
   "source": [
    "### Exploring the effect of a size-based performance figure\n",
    "To do this, first open the <i>DS_size.fs</i> script and change the weights of RMSE, sensitivity, and specificity to the values you selected in the previous step. Execute that script in FUGE.\n",
    "#### Note: this script should run in less than a half of the time than the previous one. "
   ]
  },
  {
   "cell_type": "code",
   "execution_count": null,
   "metadata": {
    "collapsed": false,
    "deletable": true,
    "editable": true
   },
   "outputs": [],
   "source": [
    "#Default values\n",
    "qtyExpGenerations = 1\n",
    "qtyExpPop = 1\n",
    "qtyExpRules = 1\n",
    "qtyExpVar = 1\n",
    "#Change here\n",
    "alphaValuesSize = [0.2, 0.4, 0.6, 0.8, 1.0]\n",
    "#Quantity of experiences by configuration\n",
    "qtyExp = 5\n",
    "#Path where it save your logs\n",
    "pathLogs = \"/home/mlbd/Desktop/mileRsltSize/logs\""
   ]
  },
  {
   "cell_type": "code",
   "execution_count": null,
   "metadata": {
    "collapsed": false,
    "deletable": true,
    "editable": true
   },
   "outputs": [],
   "source": [
    "listLogs =  getFilesFuzzySystem(pathLogs, '/*.csv') \n",
    "print \"Number of models: \" + str(len(listLogs))"
   ]
  },
  {
   "cell_type": "code",
   "execution_count": null,
   "metadata": {
    "collapsed": false,
    "deletable": true,
    "editable": true
   },
   "outputs": [],
   "source": [
    "matrixHeatMp = separateFilesByExpSize()"
   ]
  },
  {
   "cell_type": "code",
   "execution_count": null,
   "metadata": {
    "collapsed": false,
    "deletable": true,
    "editable": true
   },
   "outputs": [],
   "source": [
    "fig = plt.figure()\n",
    "fig.suptitle('Size', fontsize=14, fontweight='bold')\n",
    "ax = fig.add_subplot(111)\n",
    "ax.set_xlabel('Alpha values')\n",
    "ax.set_ylabel('Fitness Value')\n",
    "plt.plot(alphaValuesSize, matrixHeatMp[:,0], label=\"Sensitivity\")\n",
    "plt.plot(alphaValuesSize, matrixHeatMp[:,1], label=\"Specificity\")\n",
    "plt.plot(alphaValuesSize, matrixHeatMp[:,2], label=\"Accuracy\")\n",
    "plt.plot(alphaValuesSize, matrixHeatMp[:,3], label=\"F1\")\n",
    "ax.legend(bbox_to_anchor=(1.05, 1), loc=2, borderaxespad=0.)\n",
    "plt.show()"
   ]
  },
  {
   "cell_type": "markdown",
   "metadata": {
    "deletable": true,
    "editable": true
   },
   "source": [
    "<p style=\"background-color:#AFEEEE;padding:3px\"><font size=\"4\"><b>2. </b></font>Based on the resulting statistics, what weight would you select for the Size performance criterion? Why?</p>"
   ]
  },
  {
   "cell_type": "markdown",
   "metadata": {
    "deletable": true,
    "editable": true
   },
   "source": [
    "Your answer here"
   ]
  },
  {
   "cell_type": "markdown",
   "metadata": {
    "deletable": true,
    "editable": true
   },
   "source": [
    "<b>For the curious: </b>Now you could create a script setting the fitness weights you have selected (i.e., those for RMSE, sensitivity, specificity, and size). You may, then, use it to perform multiples experiments exploring the space of other parameters, as for example, number of rules and variables per rule, number of generations, size of the populations, etc. You may, finally, analyse the results with the functions provided in this notebook. <p>\n",
    "<i>Note: unfortunately this would certainly require a huge amount of computational power. So, do it only if you have access  to a small farm of servers ;-)</i>"
   ]
  },
  {
   "cell_type": "markdown",
   "metadata": {
    "deletable": true,
    "editable": true
   },
   "source": [
    "In the second part of this practice you will enlarge the fuzzy model collection you just started in this firs part. Then, you will use all these models to make some decisions and choose a (handful of) highly predicitve model(s).\n",
    "\n",
    "Good luck."
   ]
  },
  {
   "cell_type": "code",
   "execution_count": null,
   "metadata": {
    "collapsed": true,
    "deletable": true,
    "editable": true
   },
   "outputs": [],
   "source": []
  }
 ],
 "metadata": {
  "anaconda-cloud": {},
  "kernelspec": {
   "display_name": "Python 2",
   "language": "python",
   "name": "python2"
  },
  "language_info": {
   "codemirror_mode": {
    "name": "ipython",
    "version": 2
   },
   "file_extension": ".py",
   "mimetype": "text/x-python",
   "name": "python",
   "nbconvert_exporter": "python",
   "pygments_lexer": "ipython2",
   "version": "2.7.13"
  }
 },
 "nbformat": 4,
 "nbformat_minor": 0
}
