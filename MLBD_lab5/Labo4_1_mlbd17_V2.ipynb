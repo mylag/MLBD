{
 "cells": [
  {
   "cell_type": "markdown",
   "metadata": {},
   "source": [
    "# Labo FUGE - Exercises"
   ]
  },
  {
   "cell_type": "markdown",
   "metadata": {},
   "source": [
    "The aim of this labo is to explore the use of FUGE as a modelling tool for selecting and characterizing diagnostic biomarkers."
   ]
  },
  {
   "cell_type": "markdown",
   "metadata": {},
   "source": [
    "## Exploring the fitness (performance) configuration"
   ]
  },
  {
   "cell_type": "markdown",
   "metadata": {},
   "source": [
    "In this part you are going to select the weights (relative importance) of 4 performance criteria (the most common and useful ones) used in FUGE. For this purpose you are provided with two scripts (to be executed from FUGE): \n",
    "- DS_conf.fs: exploration of two trade-offs: \n",
    "-- numeric (RMSE) versus diagnostic (Sens/Spec) and \n",
    "-- Sensitivity versus Specificity\n",
    "- DS_size.fs: exploration of a fitness penalizing the size/complexity of the models\n",
    "<p>(Note: A third script, DS_Sen_Spe, may be used to further explore the sensitivity versus specificity trade-off)\n",
    "\n",
    "Don't forget to control in the script that all the parameters are correctly configured according to the problem under study (<i>in particular those related with the number of bits used to code the genomes</i>). \n",
    "\n",
    "For this part we use the \"MILE\" dataset, that contains microarray (gene expression) data from a Leukemia study. The dataset is  splitted in two subsets: training and test. As you may know, the training set is used to train the models and the test set is used to validate the capacity of such model(s) to correctly predict on previously unseen cases."
   ]
  },
  {
   "cell_type": "markdown",
   "metadata": {},
   "source": [
    "The code bellow allows performing some performance analyses using, as input, the log files of the experiences conducted on FUGE."
   ]
  },
  {
   "cell_type": "code",
   "execution_count": 45,
   "metadata": {
    "collapsed": false,
    "deletable": true,
    "editable": true
   },
   "outputs": [],
   "source": [
    "import os, glob, time\n",
    "import matplotlib.pyplot as plt\n",
    "import numpy as np\n",
    "import csv\n",
    "import re\n",
    "import pandas as pd\n",
    "\n",
    "\n",
    "\n",
    "#Put the files ordered by experiences in date_file_list\n",
    "def getFilesFuzzySystem(path, typeFile):\n",
    "    date_file_list = []\n",
    "    for folder in glob.glob(path):\n",
    "        print \"folder =\", folder\n",
    "        for file in glob.glob(folder + typeFile): \n",
    "            stats = os.stat(file)\n",
    "            lastmod_date = time.localtime(stats[8])\n",
    "            date_file_tuple = lastmod_date, file\n",
    "            date_file_list.append(date_file_tuple)\n",
    "    date_file_list.sort()\n",
    "    return date_file_list\n",
    "\n",
    "#Get the information in the log file by label \"value_need\"\n",
    "def getInformationByFileLog(indexId, value_need):\n",
    "    filePath = listLogs[indexId][1]\n",
    "    with open(filePath, 'rb') as csvfile:\n",
    "        spamreader = csv.reader(csvfile, delimiter=';', quotechar='|')\n",
    "        for row in spamreader:\n",
    "            if len(row) >=2:\n",
    "                if value_need in row[0]:\n",
    "                    return float(row[1])\n",
    "                \n",
    "#The three next functions are used to calculate the measure \n",
    "#of performance that we need during this laboratory\n",
    "def separateFilesByExp():\n",
    "    global qtyExpGenerations\n",
    "    global qtyExpPop\n",
    "    global qtyExpRules\n",
    "    global qtyExpVar\n",
    "    global alphaValues\n",
    "    global qtyExp\n",
    "    \n",
    "    qtyExplorations = qtyExpGenerations * qtyExpPop * qtyExpRules * qtyExpVar\n",
    "\n",
    "    qtyElemsExp = qtyExplorations * qtyExp * (len(alphaValues)*2-1)\n",
    "    \n",
    "    ExpNum = 1\n",
    "    \n",
    "    firstElem = qtyElemsExp * (ExpNum-1)\n",
    "    lastElem = qtyElemsExp * ExpNum\n",
    "    \n",
    "    idxElemStart = firstElem\n",
    "    idxElemEnd = idxElemStart + qtyExp\n",
    "    #array that represent RMSE value | Sen/spe | mean value\n",
    "    matrixResults = np.zeros(((qtyElemsExp/qtyExp), 6))\n",
    "    \n",
    "    positionMatrixElement = 0\n",
    "    aux = firstElem\n",
    "    auxExpNumber = 0 \n",
    "    rmseValuePosi = 0\n",
    "    speSenValueCross = False\n",
    "    while aux < lastElem:\n",
    "        resultSen = 0.0\n",
    "        resultSpe = 0.0\n",
    "        resultAcc = 0.0\n",
    "        resultF1 = 0.0\n",
    "        resultF1Sen = 0.0\n",
    "        resultF1PPV = 0.0\n",
    "        while idxElemStart < idxElemEnd:\n",
    "            resultSen = resultSen + getInformationByFileLog(idxElemStart, \"#Sensitivity\")\n",
    "            resultSpe = resultSpe + getInformationByFileLog(idxElemStart, \"#Specificity\")\n",
    "            resultAcc = resultAcc + getInformationByFileLog(idxElemStart, \"#Accuracy\")\n",
    "            \n",
    "            \n",
    "            resultF1Sen = getInformationByFileLog(idxElemStart, \"#Sensitivity\")\n",
    "            resultF1PPV = getInformationByFileLog(idxElemStart, \"#PPV\")\n",
    "            resultF1 = resultF1 + (2.0*((resultF1Sen*resultF1PPV)/(resultF1Sen+resultF1PPV)))\n",
    "            idxElemStart = idxElemStart +1\n",
    "        resultSen = resultSen/qtyExp\n",
    "        resultSpe = resultSpe/qtyExp\n",
    "        resultAcc = resultAcc/qtyExp\n",
    "        resultF1 = resultF1/qtyExp\n",
    "        aux = idxElemEnd\n",
    "        idxElemEnd = idxElemStart + qtyExp\n",
    "        matrixResults[positionMatrixElement][2] = resultSen\n",
    "        matrixResults[positionMatrixElement][3] = resultSpe\n",
    "        matrixResults[positionMatrixElement][4] = resultAcc\n",
    "        matrixResults[positionMatrixElement][5] = resultF1\n",
    "        if (speSenValueCross == False):\n",
    "            matrixResults[positionMatrixElement][0] = 1.0\n",
    "            matrixResults[positionMatrixElement][1] = alphaValues[rmseValuePosi]\n",
    "            rmseValuePosi = rmseValuePosi +1\n",
    "            if rmseValuePosi >= len(alphaValues):\n",
    "                speSenValueCross = True\n",
    "                rmseValuePosi = rmseValuePosi -1\n",
    "        else:\n",
    "            rmseValuePosi = rmseValuePosi-1\n",
    "            matrixResults[positionMatrixElement][0] = alphaValues[rmseValuePosi]\n",
    "            matrixResults[positionMatrixElement][1] = 1.0\n",
    "        positionMatrixElement = positionMatrixElement +1\n",
    "        \n",
    "    \n",
    "    \n",
    "    return matrixResults\n",
    "\n",
    "\n",
    "def separateFilesByExpSize():\n",
    "    global qtyExpGenerations\n",
    "    global qtyExpPop\n",
    "    global qtyExpRules\n",
    "    global qtyExpVar\n",
    "    global alphaValuesSize\n",
    "    global qtyExp\n",
    "    \n",
    "    qtyExplorations = qtyExpGenerations * qtyExpPop * qtyExpRules * qtyExpVar\n",
    "\n",
    "    qtyElemsExp = qtyExplorations * qtyExp * len(alphaValuesSize)-1\n",
    "    \n",
    "    ExpNum = 1\n",
    "    \n",
    "    firstElem = qtyElemsExp * (ExpNum-1)\n",
    "    lastElem = qtyElemsExp * ExpNum\n",
    "    \n",
    "    idxElemStart = firstElem\n",
    "    idxElemEnd = idxElemStart + qtyExp\n",
    "    matrixResultsSize = np.zeros((len(alphaValuesSize),4))\n",
    "    \n",
    "    \n",
    "    positionMatrixElement = 0\n",
    "    aux = firstElem\n",
    "    auxExpNumber = 0 \n",
    "    rmseValuePosi = 0\n",
    "    speSenValueCross = False\n",
    "    while aux < lastElem:\n",
    "        resultSen = 0.0\n",
    "        resultSpe = 0.0\n",
    "        resultAcc = 0.0\n",
    "        resultF1 = 0.0\n",
    "        resultF1Sen = 0.0\n",
    "        resultF1PPV = 0.0\n",
    "        while idxElemStart < idxElemEnd:\n",
    "            resultSen = resultSen + getInformationByFileLog(idxElemStart, \"#Sensitivity\")\n",
    "            resultSpe = resultSpe + getInformationByFileLog(idxElemStart, \"#Specificity\")\n",
    "            resultAcc = resultAcc + getInformationByFileLog(idxElemStart, \"#Accuracy\")\n",
    "            \n",
    "            resultF1Sen = getInformationByFileLog(idxElemStart, \"#Sensitivity\")\n",
    "            resultF1PPV = getInformationByFileLog(idxElemStart, \"#PPV\")\n",
    "            resultF1 =  resultF1 + (2.0*((resultF1Sen*resultF1PPV)/(resultF1Sen+resultF1PPV)))\n",
    "            idxElemStart = idxElemStart +1\n",
    "        resultSen = resultSen/qtyExp\n",
    "        resultSpe = resultSpe/qtyExp\n",
    "        resultAcc = resultAcc/qtyExp\n",
    "        resultF1 = resultF1/qtyExp\n",
    "        aux = idxElemEnd\n",
    "        idxElemEnd = idxElemStart + qtyExp\n",
    "        matrixResultsSize[positionMatrixElement][0] = resultSen\n",
    "        matrixResultsSize[positionMatrixElement][1] = resultSpe\n",
    "        matrixResultsSize[positionMatrixElement][2] = resultAcc\n",
    "        matrixResultsSize[positionMatrixElement][3] = resultF1\n",
    "    \n",
    "        positionMatrixElement = positionMatrixElement +1\n",
    "    \n",
    "    return matrixResultsSize"
   ]
  },
  {
   "cell_type": "markdown",
   "metadata": {
    "deletable": true,
    "editable": true
   },
   "source": [
    "### Exploring the trade-off between RMSE, Sensitivity, and Specificity\n",
    "The script <i>DS_conf</i> explores different combinations of three important performance criteria (fitness functions):\n",
    "- RMSE or Root Mean Squared Error\n",
    "- Sensitivity, or true-positive ratio\n",
    "- Specificity, or true-negative ratio.\n",
    "\n",
    "Examine the script to understand the kind of exploration that is performed. Then execute it.\n",
    "### Warning: this is the most computationally heavy part of this practice, expect it to take several hours to finish (between 5 and 20)."
   ]
  },
  {
   "cell_type": "markdown",
   "metadata": {},
   "source": [
    "Once the script has finished, you may obtain some important statistics about the experiments by means of the code below.<p>\n",
    "<b>Notes:</b>\n",
    "- You may change the FUGE script values in order to explore other fitness configurations.\n",
    "- However, every time you execute that script, you should put the log files in a different directory\n",
    "- The code below must also be adapted to match the values in FUGE "
   ]
  },
  {
   "cell_type": "code",
   "execution_count": 46,
   "metadata": {
    "collapsed": false,
    "deletable": true,
    "editable": true
   },
   "outputs": [],
   "source": [
    "#Default values\n",
    "qtyExpGenerations = 1\n",
    "qtyExpPop = 1\n",
    "qtyExpRules = 1\n",
    "qtyExpVar = 1\n",
    "#Change here\n",
    "alphaValues = [0.0, 0.2, 0.4, 0.6, 0.8, 1.0]\n",
    "#Quantity of experiences by configuration\n",
    "qtyExp = 5\n",
    "#Path where it save your logs\n",
    "pathLogs = \"/Users/kimtaing/MLBD labo4/mileRslt/logs\""
   ]
  },
  {
   "cell_type": "code",
   "execution_count": 49,
   "metadata": {
    "collapsed": false,
    "deletable": true,
    "editable": true
   },
   "outputs": [
    {
     "name": "stdout",
     "output_type": "stream",
     "text": [
      "folder = /Users/kimtaing/MLBD labo4/mileRslt/logs\n",
      "Number of models: 55\n"
     ]
    }
   ],
   "source": [
    "listLogs =  getFilesFuzzySystem(pathLogs, '/*.csv') \n",
    "print \"Number of models: \" + str(len(listLogs))"
   ]
  },
  {
   "cell_type": "markdown",
   "metadata": {},
   "source": [
    "The following table shows the average performance figures obtained for each configuration"
   ]
  },
  {
   "cell_type": "code",
   "execution_count": 66,
   "metadata": {
    "collapsed": false,
    "deletable": true,
    "editable": true
   },
   "outputs": [
    {
     "data": {
      "text/html": [
       "<div>\n",
       "<table border=\"1\" class=\"dataframe\">\n",
       "  <thead>\n",
       "    <tr style=\"text-align: right;\">\n",
       "      <th></th>\n",
       "      <th>RMSE</th>\n",
       "      <th>Sen/Spe</th>\n",
       "      <th>Sen</th>\n",
       "      <th>Spe</th>\n",
       "      <th>Acc</th>\n",
       "      <th>F1</th>\n",
       "    </tr>\n",
       "  </thead>\n",
       "  <tbody>\n",
       "    <tr>\n",
       "      <th>0</th>\n",
       "      <td>1.0</td>\n",
       "      <td>0.0</td>\n",
       "      <td>0.936089</td>\n",
       "      <td>0.983507</td>\n",
       "      <td>0.966760</td>\n",
       "      <td>0.952166</td>\n",
       "    </tr>\n",
       "    <tr>\n",
       "      <th>1</th>\n",
       "      <td>1.0</td>\n",
       "      <td>0.2</td>\n",
       "      <td>0.889348</td>\n",
       "      <td>0.963021</td>\n",
       "      <td>0.937002</td>\n",
       "      <td>0.909009</td>\n",
       "    </tr>\n",
       "    <tr>\n",
       "      <th>2</th>\n",
       "      <td>1.0</td>\n",
       "      <td>0.4</td>\n",
       "      <td>0.856280</td>\n",
       "      <td>0.991493</td>\n",
       "      <td>0.943740</td>\n",
       "      <td>0.914337</td>\n",
       "    </tr>\n",
       "    <tr>\n",
       "      <th>3</th>\n",
       "      <td>1.0</td>\n",
       "      <td>0.6</td>\n",
       "      <td>0.867409</td>\n",
       "      <td>0.990451</td>\n",
       "      <td>0.946996</td>\n",
       "      <td>0.919621</td>\n",
       "    </tr>\n",
       "    <tr>\n",
       "      <th>4</th>\n",
       "      <td>1.0</td>\n",
       "      <td>0.8</td>\n",
       "      <td>0.798092</td>\n",
       "      <td>0.995660</td>\n",
       "      <td>0.925884</td>\n",
       "      <td>0.883803</td>\n",
       "    </tr>\n",
       "    <tr>\n",
       "      <th>5</th>\n",
       "      <td>1.0</td>\n",
       "      <td>1.0</td>\n",
       "      <td>0.762480</td>\n",
       "      <td>0.996354</td>\n",
       "      <td>0.913756</td>\n",
       "      <td>0.859983</td>\n",
       "    </tr>\n",
       "    <tr>\n",
       "      <th>6</th>\n",
       "      <td>0.8</td>\n",
       "      <td>1.0</td>\n",
       "      <td>0.921463</td>\n",
       "      <td>0.984549</td>\n",
       "      <td>0.962268</td>\n",
       "      <td>0.945166</td>\n",
       "    </tr>\n",
       "    <tr>\n",
       "      <th>7</th>\n",
       "      <td>0.6</td>\n",
       "      <td>1.0</td>\n",
       "      <td>0.894753</td>\n",
       "      <td>0.990625</td>\n",
       "      <td>0.956766</td>\n",
       "      <td>0.935928</td>\n",
       "    </tr>\n",
       "    <tr>\n",
       "      <th>8</th>\n",
       "      <td>0.4</td>\n",
       "      <td>1.0</td>\n",
       "      <td>0.898569</td>\n",
       "      <td>0.990972</td>\n",
       "      <td>0.958338</td>\n",
       "      <td>0.938342</td>\n",
       "    </tr>\n",
       "    <tr>\n",
       "      <th>9</th>\n",
       "      <td>0.2</td>\n",
       "      <td>1.0</td>\n",
       "      <td>0.908426</td>\n",
       "      <td>0.986458</td>\n",
       "      <td>0.958900</td>\n",
       "      <td>0.939714</td>\n",
       "    </tr>\n",
       "    <tr>\n",
       "      <th>10</th>\n",
       "      <td>0.0</td>\n",
       "      <td>1.0</td>\n",
       "      <td>0.866137</td>\n",
       "      <td>0.987674</td>\n",
       "      <td>0.944750</td>\n",
       "      <td>0.916514</td>\n",
       "    </tr>\n",
       "  </tbody>\n",
       "</table>\n",
       "</div>"
      ],
      "text/plain": [
       "    RMSE  Sen/Spe       Sen       Spe       Acc        F1\n",
       "0    1.0      0.0  0.936089  0.983507  0.966760  0.952166\n",
       "1    1.0      0.2  0.889348  0.963021  0.937002  0.909009\n",
       "2    1.0      0.4  0.856280  0.991493  0.943740  0.914337\n",
       "3    1.0      0.6  0.867409  0.990451  0.946996  0.919621\n",
       "4    1.0      0.8  0.798092  0.995660  0.925884  0.883803\n",
       "5    1.0      1.0  0.762480  0.996354  0.913756  0.859983\n",
       "6    0.8      1.0  0.921463  0.984549  0.962268  0.945166\n",
       "7    0.6      1.0  0.894753  0.990625  0.956766  0.935928\n",
       "8    0.4      1.0  0.898569  0.990972  0.958338  0.938342\n",
       "9    0.2      1.0  0.908426  0.986458  0.958900  0.939714\n",
       "10   0.0      1.0  0.866137  0.987674  0.944750  0.916514"
      ]
     },
     "execution_count": 66,
     "metadata": {},
     "output_type": "execute_result"
    }
   ],
   "source": [
    "matrixHeatMp = separateFilesByExp()\n",
    "pd.DataFrame(data=matrixHeatMp,columns=['RMSE', 'Sen/Spe', 'Sen', 'Spe', 'Acc', 'F1'])  # 1st row as the column names"
   ]
  },
  {
   "cell_type": "markdown",
   "metadata": {},
   "source": [
    "<b>Exercise</b>: Analyze the code of the function <i>separateFilesByExp</i>. Adapt it so as to produce boxplots instead of, or inaddition to, the averages presented in the table."
   ]
  },
  {
   "cell_type": "code",
   "execution_count": 61,
   "metadata": {
    "collapsed": false
   },
   "outputs": [
    {
     "name": "stdout",
     "output_type": "stream",
     "text": [
      "<function separateFilesByExpNew at 0x11c5d5e60>\n"
     ]
    }
   ],
   "source": [
    "#mlbd\n",
    "import pylab as pl\n",
    "def separateFilesByExpNew():\n",
    "    global qtyExpGenerations\n",
    "    global qtyExpPop\n",
    "    global qtyExpRules\n",
    "    global qtyExpVar\n",
    "    global alphaValues\n",
    "    global qtyExp\n",
    "    \n",
    "    qtyExplorations = qtyExpGenerations * qtyExpPop * qtyExpRules * qtyExpVar\n",
    "\n",
    "    qtyElemsExp = qtyExplorations * qtyExp * (len(alphaValues)*2-1)\n",
    "    \n",
    "    ExpNum = 1\n",
    "    \n",
    "    firstElem = qtyElemsExp * (ExpNum-1)\n",
    "    lastElem = qtyElemsExp * ExpNum\n",
    "    \n",
    "    idxElemStart = firstElem\n",
    "    idxElemEnd = idxElemStart + qtyExp\n",
    "    #array that represent RMSE value | Sen/spe | mean value\n",
    "    matrixResults = np.zeros(((qtyElemsExp/qtyExp), 6))\n",
    "    \n",
    "    positionMatrixElement = 0\n",
    "    aux = firstElem\n",
    "    auxExpNumber = 0 \n",
    "    rmseValuePosi = 0\n",
    "    speSenValueCross = False\n",
    "    boxplotData=np.zeros(((lastElem*idxElemEnd), 6))\n",
    "    print lastElem*idxElemEnd\n",
    "    while aux < lastElem:\n",
    "        resultSen = 0.0\n",
    "        resultSpe = 0.0\n",
    "        resultAcc = 0.0\n",
    "        resultF1 = 0.0\n",
    "        resultF1Sen = 0.0\n",
    "        resultF1PPV = 0.0\n",
    "        resultSentab=[]\n",
    "        resultSpetab=[]\n",
    "        resultAcctab=[]\n",
    "        resultF1tab=[]\n",
    "        \n",
    "        while idxElemStart < idxElemEnd:\n",
    "            resultSen= resultSen + getInformationByFileLog(idxElemStart, \"#Sensitivity\")\n",
    "            resultSpe = resultSpe + getInformationByFileLog(idxElemStart, \"#Specificity\")\n",
    "            resultAcc = resultAcc + getInformationByFileLog(idxElemStart, \"#Accuracy\")\n",
    "            \n",
    "            \n",
    "            resultF1Sen = getInformationByFileLog(idxElemStart, \"#Sensitivity\")\n",
    "            resultF1PPV = getInformationByFileLog(idxElemStart, \"#PPV\")\n",
    "            resultF1 = resultF1 + (2.0*((resultF1Sen*resultF1PPV)/(resultF1Sen+resultF1PPV)))\n",
    "            #tab\n",
    "            boxplotData[idxElemStart][2]=getInformationByFileLog(idxElemStart, \"#Sensitivity\")\n",
    "            boxplotData[idxElemStart][3]=getInformationByFileLog(idxElemStart, \"#Specificity\")\n",
    "            boxplotData[idxElemStart][4]=getInformationByFileLog(idxElemStart, \"#Accuracy\")\n",
    "            boxplotData[idxElemStart][5]=(2.0*((resultF1Sen*resultF1PPV)/(resultF1Sen+resultF1PPV)))\n",
    "            if (speSenValueCross == False):\n",
    "                boxplotData[idxElemStart][0] = 1.0\n",
    "                boxplotData[idxElemStart][1] = alphaValues[rmseValuePosi]\n",
    "            else:\n",
    "                boxplotData[idxElemStart][0] = alphaValues[rmseValuePosi-1]\n",
    "                boxplotData[idxElemStart][1] = 1.0\n",
    "            \n",
    "            idxElemStart = idxElemStart +1\n",
    "        resultSen = resultSen/qtyExp\n",
    "        resultSpe = resultSpe/qtyExp\n",
    "        resultAcc = resultAcc/qtyExp\n",
    "        resultF1 = resultF1/qtyExp\n",
    "        aux = idxElemEnd\n",
    "        idxElemEnd = idxElemStart + qtyExp\n",
    "        matrixResults[positionMatrixElement][2] = resultSen\n",
    "        matrixResults[positionMatrixElement][3] = resultSpe\n",
    "        matrixResults[positionMatrixElement][4] = resultAcc\n",
    "        matrixResults[positionMatrixElement][5] = resultF1\n",
    "        if (speSenValueCross == False):\n",
    "            matrixResults[positionMatrixElement][0] = 1.0\n",
    "            matrixResults[positionMatrixElement][1] = alphaValues[rmseValuePosi]\n",
    "            rmseValuePosi = rmseValuePosi +1\n",
    "            if rmseValuePosi >= len(alphaValues):\n",
    "                speSenValueCross = True\n",
    "                rmseValuePosi = rmseValuePosi -1\n",
    "        else:\n",
    "            rmseValuePosi = rmseValuePosi-1\n",
    "            matrixResults[positionMatrixElement][0] = alphaValues[rmseValuePosi]\n",
    "            matrixResults[positionMatrixElement][1] = 1.0\n",
    "        positionMatrixElement = positionMatrixElement +1\n",
    "    \n",
    "    #print boxplotData\n",
    "    #pl.boxplot(resultSentab)\n",
    "    #pl.show()\n",
    "    \n",
    "    return boxplotData #matrixResults\n",
    "\n"
   ]
  },
  {
   "cell_type": "code",
   "execution_count": 109,
   "metadata": {
    "collapsed": false
   },
   "outputs": [
    {
     "name": "stdout",
     "output_type": "stream",
     "text": [
      "Populating the interactive namespace from numpy and matplotlib\n",
      "275\n"
     ]
    },
    {
     "data": {
      "image/png": "[encoded data removed]",
      "text/plain": [
       "<matplotlib.figure.Figure at 0x122782a50>"
      ]
     },
     "metadata": {},
     "output_type": "display_data"
    },
    {
     "data": {
      "image/png": "[encoded data removed]",
      "text/plain": [
       "<matplotlib.figure.Figure at 0x11c4b4450>"
      ]
     },
     "metadata": {},
     "output_type": "display_data"
    },
    {
     "data": {
      "image/png": "[encoded data removed]",
      "text/plain": [
       "<matplotlib.figure.Figure at 0x11c4b43d0>"
      ]
     },
     "metadata": {},
     "output_type": "display_data"
    },
    {
     "data": {
      "image/png": "[encoded data removed]",
      "text/plain": [
       "<matplotlib.figure.Figure at 0x11cbef310>"
      ]
     },
     "metadata": {},
     "output_type": "display_data"
    }
   ],
   "source": [
    "#mlbd\n",
    "%pylab inline --no-import-all\n",
    "import matplotlib.pyplot as plt\n",
    "boxplotData=separateFilesByExpNew()\n",
    "df=pd.DataFrame(data=boxplotData,columns=['RMSE', 'Sen/Spe', 'Sen', 'Spe', 'Acc', 'F1'])\n",
    "Parm=['Sen', 'Spe', 'Acc', 'F1']\n",
    "for c in Parm:\n",
    "    #print c\n",
    "    axes = df.boxplot(by=['RMSE','Sen/Spe'], column=c,figsize=[12,5],return_type='axes')\n",
    "    for ax in axes.values():\n",
    "        ax.set_ylim(0.80, 1)\n",
    "\n",
    "    plt.show()"
   ]
  },
  {
   "cell_type": "markdown",
   "metadata": {},
   "source": [
    "  <p style=\"background-color:#AFEEEE;padding:3px\"><font size=\"4\"><b>1. </b></font>Analyze the results in the table and the boxplots. On this base, select weight values for the 3 studied parameters (RMSE, Sens, Spec)? Justify your choice?</p>"
   ]
  },
  {
   "cell_type": "markdown",
   "metadata": {},
   "source": [
    "<b>Reponses</b>:\n",
    "<p>La meilleure combinaison [RMSE,Sen/Spe] pour la critère Sensitivity : [1,0] </p>\n",
    "<p>La meilleure combinaison [RMSE,Sen/Spe] pour la critère Specificity : [1,0.8]</p>\n",
    "<p>La meilleure combinaison [RMSE,Sen/Spe] pour la critère Accurancy : [1,0] </p>\n",
    "<p>La meilleure combinaison [RMSE,Sen/Spe] pour la critère F1 : [1,0] </p>\n",
    "<p> Le choix des ces combinaisons ci-dessus est basé sur la position de boxplot et sa longueur. On choisi la combinaison qui a le boxplot tout en haut du graphe avec le longueur le plus petit (Plus le longeur est petit, plus on a moins de variation) </p>\n",
    "<p>==> On a décidé de sélectionner la combinaison [1,0], car c'est la meilleure combinaison pour les criètres accurancy et F1. De plus, le F1 est un bon indicateur de trade off entre sensitivity et specificity</p>"
   ]
  },
  {
   "cell_type": "markdown",
   "metadata": {},
   "source": [
    "Your answer here"
   ]
  },
  {
   "cell_type": "markdown",
   "metadata": {
    "collapsed": false,
    "deletable": true,
    "editable": true
   },
   "source": [
    "### Exploring the effect of a size-based performance figure\n",
    "To do this, first open the <i>DS_size.fs</i> script and change the weights of RMSE, sensitivity, and specificity to the values you selected in the previous step. Execute that script in FUGE.\n",
    "#### Note: this script should run in less than a half of the time than the previous one. "
   ]
  },
  {
   "cell_type": "code",
   "execution_count": null,
   "metadata": {
    "collapsed": false,
    "deletable": true,
    "editable": true
   },
   "outputs": [],
   "source": [
    "#Default values\n",
    "qtyExpGenerations = 1\n",
    "qtyExpPop = 1\n",
    "qtyExpRules = 1\n",
    "qtyExpVar = 1\n",
    "#Change here\n",
    "alphaValuesSize = [0.2, 0.4, 0.6, 0.8, 1.0]\n",
    "#Quantity of experiences by configuration\n",
    "qtyExp = 5\n",
    "#Path where it save your logs\n",
    "pathLogs = \"/home/mlbd/Desktop/mileRsltSize/logs\""
   ]
  },
  {
   "cell_type": "code",
   "execution_count": null,
   "metadata": {
    "collapsed": false,
    "deletable": true,
    "editable": true
   },
   "outputs": [],
   "source": [
    "listLogs =  getFilesFuzzySystem(pathLogs, '/*.csv') \n",
    "print \"Number of models: \" + str(len(listLogs))"
   ]
  },
  {
   "cell_type": "code",
   "execution_count": null,
   "metadata": {
    "collapsed": false,
    "deletable": true,
    "editable": true
   },
   "outputs": [],
   "source": [
    "matrixHeatMp = separateFilesByExpSize()"
   ]
  },
  {
   "cell_type": "code",
   "execution_count": null,
   "metadata": {
    "collapsed": false,
    "deletable": true,
    "editable": true
   },
   "outputs": [],
   "source": [
    "fig = plt.figure()\n",
    "fig.suptitle('Size', fontsize=14, fontweight='bold')\n",
    "ax = fig.add_subplot(111)\n",
    "ax.set_xlabel('Alpha values')\n",
    "ax.set_ylabel('Fitness Value')\n",
    "plt.plot(alphaValuesSize, matrixHeatMp[:,0], label=\"Sensitivity\")\n",
    "plt.plot(alphaValuesSize, matrixHeatMp[:,1], label=\"Specificity\")\n",
    "plt.plot(alphaValuesSize, matrixHeatMp[:,2], label=\"Accuracy\")\n",
    "plt.plot(alphaValuesSize, matrixHeatMp[:,3], label=\"F1\")\n",
    "ax.legend(bbox_to_anchor=(1.05, 1), loc=2, borderaxespad=0.)\n",
    "plt.show()"
   ]
  },
  {
   "cell_type": "markdown",
   "metadata": {},
   "source": [
    "<p style=\"background-color:#AFEEEE;padding:3px\"><font size=\"4\"><b>2. </b></font>Based on the resulting statistics, what weight would you select for the Size performance criterion? Why?</p>"
   ]
  },
  {
   "cell_type": "markdown",
   "metadata": {},
   "source": [
    "Your answer here"
   ]
  },
  {
   "cell_type": "markdown",
   "metadata": {},
   "source": [
    "<b>For the curious: </b>Now you could create a script setting the fitness weights you have selected (i.e., those for RMSE, sensitivity, specificity, and size). You may, then, use it to perform multiples experiments exploring the space of other parameters, as for example, number of rules and variables per rule, number of generations, size of the populations, etc. You may, finally, analyse the results with the functions provided in this notebook. <p>\n",
    "<i>Note: unfortunately this would certainly require a huge amount of computational power. So, do it only if you have access  to a small farm of servers ;-)</i>"
   ]
  },
  {
   "cell_type": "markdown",
   "metadata": {},
   "source": [
    "In the second part of this practice you will enlarge the fuzzy model collection you just started in this firs part. Then, you will use all these models to make some decisions and choose a (handful of) highly predicitve model(s).\n",
    "\n",
    "Good luck."
   ]
  },
  {
   "cell_type": "code",
   "execution_count": null,
   "metadata": {
    "collapsed": true
   },
   "outputs": [],
   "source": []
  }
 ],
 "metadata": {
  "anaconda-cloud": {},
  "kernelspec": {
   "display_name": "Python [Root]",
   "language": "python",
   "name": "Python [Root]"
  },
  "language_info": {
   "codemirror_mode": {
    "name": "ipython",
    "version": 2
   },
   "file_extension": ".py",
   "mimetype": "text/x-python",
   "name": "python",
   "nbconvert_exporter": "python",
   "pygments_lexer": "ipython2",
   "version": "2.7.12"
  }
 },
 "nbformat": 4,
 "nbformat_minor": 0
}
