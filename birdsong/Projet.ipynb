{
 "cells": [
  {
   "cell_type": "markdown",
   "metadata": {},
   "source": [
    "# libraries"
   ]
  },
  {
   "cell_type": "code",
   "execution_count": 20,
   "metadata": {
    "collapsed": false
   },
   "outputs": [
    {
     "name": "stdout",
     "output_type": "stream",
     "text": [
      "Populating the interactive namespace from numpy and matplotlib\n"
     ]
    },
    {
     "name": "stderr",
     "output_type": "stream",
     "text": [
      "/home/mlbd/anaconda2/lib/python2.7/site-packages/IPython/core/magics/pylab.py:161: UserWarning: pylab import has clobbered these variables: ['pylab']\n",
      "`%matplotlib` prevents importing * from pylab and numpy\n",
      "  \"\\n`%matplotlib` prevents importing * from pylab and numpy\"\n"
     ]
    }
   ],
   "source": [
    "import librosa\n",
    "#import librosa.display\n",
    "import setuptools\n",
    "\n",
    "from numpy.distutils.core import setup\n",
    "%pylab inline --no-import-all\n",
    "#from scikits.audiolab import wavread\n",
    "from scipy import signal\n",
    "import matplotlib.pyplot as plt\n",
    "from scipy.io import wavfile\n",
    "import math\n",
    "import numpy as np\n",
    "from numpy.fft import fft\n",
    "import pylab\n",
    "#import mir_eval\n",
    "import seaborn\n",
    "seaborn.set(style=\"ticks\")"
   ]
  },
  {
   "cell_type": "code",
   "execution_count": 21,
   "metadata": {
    "collapsed": false
   },
   "outputs": [],
   "source": [
    "import numpy as np\n",
    "from matplotlib import pyplot as pl\n",
    "import keras\n",
    "from keras.datasets import mnist\n",
    "from keras.models import Model\n",
    "from keras.layers.core import Dense, Dropout, Flatten\n",
    "from keras.optimizers import RMSprop\n",
    "from keras.utils import np_utils\n",
    "from keras.layers.convolutional import Convolution2D, MaxPooling2D\n",
    "from keras.layers import Input\n",
    "from sklearn import metrics as me\n",
    "from scipy import stats\n",
    "\n",
    "%matplotlib inline"
   ]
  },
  {
   "cell_type": "markdown",
   "metadata": {},
   "source": [
    "# functions"
   ]
  },
  {
   "cell_type": "code",
   "execution_count": 22,
   "metadata": {
    "collapsed": true
   },
   "outputs": [],
   "source": [
    "# load audio file function\n",
    "def loadsingal(filename):\n",
    "    signal ,sample_rate=librosa.load(filename,sr=12000, mono=True)\n",
    "    signal=signal#[int(2.5 * sample_rate):int(3.0 * sample_rate)] \n",
    "    return signal ,sample_rate"
   ]
  },
  {
   "cell_type": "code",
   "execution_count": 23,
   "metadata": {
    "collapsed": true
   },
   "outputs": [],
   "source": [
    "# add silence in the end of audio file \n",
    "def comp_audio(data, fs, T):\n",
    "    # Calculate target number of samples\n",
    "    N_tar = int(fs * T)\n",
    "    # Calculate number of zero samples to append\n",
    "    shape = data.shape\n",
    "    # Create the target shape    \n",
    "    N_pad = N_tar - shape[0]\n",
    "    # print(\"Padding with %s seconds of silence\" % str(N_pad/fs) )\n",
    "    shape = (N_pad,) + shape[1:]\n",
    "    # Stack only if there is something to append    \n",
    "    if shape[0] > 0:                \n",
    "        if len(shape) > 1:\n",
    "            return np.vstack((np.zeros(shape),\n",
    "                              data))\n",
    "        else:\n",
    "            return np.hstack((np.zeros(shape),\n",
    "                              data))\n",
    "    else:\n",
    "        return data"
   ]
  },
  {
   "cell_type": "code",
   "execution_count": 24,
   "metadata": {
    "collapsed": false
   },
   "outputs": [],
   "source": [
    "# convert audio in spectrogram\n",
    "from scipy import signal\n",
    "def spectrogram(signals,plot=False,sample_rate=12000):\n",
    "    Sxxs=[]\n",
    "    for i,data in enumerate(signals):\n",
    "        f, t, Sxx = signal.spectrogram(data,sample_rate)\n",
    "        Sxxs.append(Sxx)\n",
    "       \n",
    "        if plot==True:\n",
    "            plt.pcolormesh(t, f, Sxx)\n",
    "            plt.ylabel('Frequency [Hz]')\n",
    "            plt.xlabel('Time [sec]')\n",
    "            plt.grid()\n",
    "            plt.show()\n",
    "    return Sxxs"
   ]
  },
  {
   "cell_type": "markdown",
   "metadata": {},
   "source": [
    "# Data loading"
   ]
  },
  {
   "cell_type": "code",
   "execution_count": 25,
   "metadata": {
    "collapsed": false
   },
   "outputs": [],
   "source": [
    "from sklearn.model_selection import train_test_split\n",
    "import glob, os\n",
    "dir =\"/scratch/mlbd/\"\n",
    "# changes current working directory\n",
    "os.chdir(dir+\"BECASSE_FILTREE\")\n",
    "filenames=[]\n",
    "for file in glob.glob(\"*.wav\"):\n",
    "    filenames.append('/BECASSE_FILTREE/'+file)\n",
    "    \n",
    "# changes current working directory\n",
    "os.chdir(dir+\"NO_BECASSE_FILTREE\")\n",
    "filenames_N=[]\n",
    "for file in glob.glob(\"*.wav\"):\n",
    "    filenames_N.append('NO_BECASSE_FILTREE/'+file)\n",
    "\n",
    "nb_Files=1000\n",
    "filenames=filenames[:nb_Files]\n",
    "filenames_N=filenames_N[:nb_Files]\n",
    "signals=[]\n",
    "signals_N=[]\n",
    "time=float(30)\n",
    "\n",
    "# load becasse audio file\n",
    "for filename in filenames:\n",
    "    path=dir +filename\n",
    "    s ,sample_rate=loadsingal(path)\n",
    "    #complete audio with fonction comp_audio to have commune size\n",
    "    s_t=comp_audio(s,sample_rate,time)\n",
    "    signals.append(s_t)\n",
    "    \n",
    "# load no_becasse audio file\n",
    "for filename in filenames_N:\n",
    "    path=dir +filename\n",
    "    s_N ,sample_rate_N=loadsingal(path)\n",
    "    s_N_t=comp_audio(s_N,sample_rate_N,time)\n",
    "    signals_N.append(s_N_t)\n"
   ]
  },
  {
   "cell_type": "markdown",
   "metadata": {},
   "source": [
    "# Data processing and preparation   "
   ]
  },
  {
   "cell_type": "code",
   "execution_count": 26,
   "metadata": {
    "collapsed": false
   },
   "outputs": [],
   "source": [
    "# load spectrogram of becase \n",
    "X_data_B=np.asarray(spectrogram(signals,False,sample_rate))\n",
    "y_data_B=np.ones(len(X_data_B))  # 1:becasse, o: non becasse\n",
    "\n",
    "# load spectrogram of non-becase \n",
    "data_inter=spectrogram(signals_N,False,sample_rate)\n",
    "\n",
    "# delete error rows from \"non becasse\" sampling\n",
    "rows_to_delete =[]\n",
    "for i in range(len(data_inter)):\n",
    "    if data_inter[i].shape[0] <> 129 or data_inter[i].shape[1] <> 1607:\n",
    "        rows_to_delete.append(i)\n",
    "        \n",
    "for i,row in enumerate(rows_to_delete):\n",
    "    del data_inter[row]   \n",
    "        \n",
    "# load spectrogram of non-becase final\n",
    "X_data_N=np.asarray(data_inter)\n",
    "y_data_N=np.zeros(len(X_data_N))  # 1:becasse, o: non becasse\n",
    "\n",
    "# combine data \"becasse\" and \"no becasse\"\n",
    "X_data = np.concatenate((X_data_B, X_data_N),axis=0)\n",
    "y_data = np.concatenate((y_data_B ,y_data_N),axis=0)\n"
   ]
  },
  {
   "cell_type": "code",
   "execution_count": 27,
   "metadata": {
    "collapsed": false
   },
   "outputs": [
    {
     "name": "stdout",
     "output_type": "stream",
     "text": [
      "X_train.shape :  (14, 129, 1607)\n",
      "y_train.shape :  (14,)\n",
      "X_test.shape :  (6, 129, 1607)\n",
      "y_test.shape :  (6,)\n",
      "14 train samples\n",
      "6 test samples\n"
     ]
    }
   ],
   "source": [
    "# sampling data for training and testing\n",
    "X_train, X_test, y_train, y_test = train_test_split(\n",
    "                        X_data, y_data, test_size=0.3, stratify=y_data)\n",
    "\n",
    "print \"X_train.shape : \", X_train.shape\n",
    "print \"y_train.shape : \", y_train.shape\n",
    "print \"X_test.shape : \", X_test.shape\n",
    "print \"y_test.shape : \", y_test.shape\n",
    "\n",
    "\n",
    "n_train, height, width = X_train.shape\n",
    "n_test, _, _ = X_test.shape\n",
    "\n",
    "X_train = X_train.reshape(n_train, 1, height, width).astype('float32')\n",
    "X_test = X_test.reshape(n_test, 1, height, width).astype('float32')\n",
    "\n",
    "maxi_train_value=np.max(X_train[2])\n",
    "maxi_test_value=np.max(X_test[2])\n",
    "\n",
    "\n",
    "X_train /= float(maxi_train_value)\n",
    "X_test /= float(maxi_test_value)\n",
    "\n",
    "n_classes = 2\n",
    "\n",
    "print n_train, 'train samples'\n",
    "print n_test, 'test samples'\n",
    "\n",
    "# convert class vectors to binary class matrices\n",
    "Y_train = np_utils.to_categorical(y_train, n_classes)\n",
    "Y_test = np_utils.to_categorical(y_test, n_classes)"
   ]
  },
  {
   "cell_type": "markdown",
   "metadata": {},
   "source": [
    "# Data modeling"
   ]
  },
  {
   "cell_type": "code",
   "execution_count": 28,
   "metadata": {
    "collapsed": false
   },
   "outputs": [],
   "source": [
    "from keras.models import Sequential\n",
    "from keras.layers import Dense\n",
    "from keras.layers import Dropout\n",
    "def create_model():\n",
    "    # create model\n",
    "    model = Sequential()\n",
    "\n",
    "    model.add(Convolution2D(9, 5, 5, activation='relu', input_shape=(1, height, width)))\n",
    "    #model.add(Convolution2D(9, 5, 5, activation='relu'))\n",
    "    model.add(MaxPooling2D(pool_size=(2,2)))\n",
    "    model.add(Dropout(0.25))\n",
    "\n",
    "    model.add(Flatten())\n",
    "    #model.add(Dense(25, activation='relu'))\n",
    "    model.add(Dropout(0.5))\n",
    "    model.add(Dense(n_classes, activation='softmax'))\n",
    "    model.summary()\n",
    "\n",
    "    # Compile model\n",
    "    keras.optimizers.RMSprop(lr=0.0000000000000001, rho=0.9, epsilon=1e-08, decay=0.0)\n",
    "    model.compile(loss='categorical_crossentropy', optimizer=RMSprop(), metrics=['accuracy'])\n",
    "\n",
    "    return model"
   ]
  },
  {
   "cell_type": "code",
   "execution_count": 29,
   "metadata": {
    "collapsed": false
   },
   "outputs": [
    {
     "name": "stdout",
     "output_type": "stream",
     "text": [
      "(14, 1, 129, 1607)\n",
      "(14, 2)\n",
      "(6, 1, 129, 1607)\n",
      "(6, 2)\n"
     ]
    }
   ],
   "source": [
    "print X_train.shape\n",
    "print Y_train.shape\n",
    "\n",
    "print X_test.shape\n",
    "print Y_test.shape\n"
   ]
  },
  {
   "cell_type": "code",
   "execution_count": 30,
   "metadata": {
    "collapsed": false
   },
   "outputs": [
    {
     "name": "stderr",
     "output_type": "stream",
     "text": [
      "/home/mlbd/anaconda2/lib/python2.7/site-packages/ipykernel/__main__.py:8: UserWarning: Update your `Conv2D` call to the Keras 2 API: `Conv2D(9, (5, 5), activation=\"relu\", input_shape=(1, 129, 1...)`\n"
     ]
    },
    {
     "name": "stdout",
     "output_type": "stream",
     "text": [
      "_________________________________________________________________\n",
      "Layer (type)                 Output Shape              Param #   \n",
      "=================================================================\n",
      "conv2d_2 (Conv2D)            (None, 9, 125, 1603)      234       \n",
      "_________________________________________________________________\n",
      "max_pooling2d_2 (MaxPooling2 (None, 9, 62, 801)        0         \n",
      "_________________________________________________________________\n",
      "dropout_3 (Dropout)          (None, 9, 62, 801)        0         \n",
      "_________________________________________________________________\n",
      "flatten_2 (Flatten)          (None, 446958)            0         \n",
      "_________________________________________________________________\n",
      "dropout_4 (Dropout)          (None, 446958)            0         \n",
      "_________________________________________________________________\n",
      "dense_2 (Dense)              (None, 2)                 893918    \n",
      "=================================================================\n",
      "Total params: 894,152.0\n",
      "Trainable params: 894,152.0\n",
      "Non-trainable params: 0.0\n",
      "_________________________________________________________________\n",
      "Train on 14 samples, validate on 6 samples\n",
      "Epoch 1/10\n",
      "14/14 [==============================] - 0s - loss: 0.6934 - acc: 0.6429 - val_loss: 0.6157 - val_acc: 0.5000\n",
      "Epoch 2/10\n",
      "14/14 [==============================] - 0s - loss: 0.6142 - acc: 0.7857 - val_loss: 0.5680 - val_acc: 0.6667\n",
      "Epoch 3/10\n",
      "14/14 [==============================] - 0s - loss: 0.5632 - acc: 0.7143 - val_loss: 0.6646 - val_acc: 0.5000\n",
      "Epoch 4/10\n",
      "14/14 [==============================] - 0s - loss: 0.5416 - acc: 0.6429 - val_loss: 0.5160 - val_acc: 0.6667\n",
      "Epoch 5/10\n",
      "14/14 [==============================] - 0s - loss: 0.5750 - acc: 0.6429 - val_loss: 0.6680 - val_acc: 0.5000\n",
      "Epoch 6/10\n",
      "14/14 [==============================] - 0s - loss: 0.4809 - acc: 0.8571 - val_loss: 0.5995 - val_acc: 0.6667\n",
      "Epoch 7/10\n",
      "14/14 [==============================] - 0s - loss: 0.4627 - acc: 0.7857 - val_loss: 0.6898 - val_acc: 0.5000\n",
      "Epoch 8/10\n",
      "14/14 [==============================] - 0s - loss: 0.4436 - acc: 1.0000 - val_loss: 0.6860 - val_acc: 0.5000\n",
      "Epoch 9/10\n",
      "14/14 [==============================] - 0s - loss: 0.4245 - acc: 1.0000 - val_loss: 0.7299 - val_acc: 0.5000\n",
      "Epoch 10/10\n",
      "14/14 [==============================] - 0s - loss: 0.3993 - acc: 1.0000 - val_loss: 0.7634 - val_acc: 0.5000\n"
     ]
    }
   ],
   "source": [
    "batch_size = 128\n",
    "n_epoch = 10\n",
    "model=create_model()\n",
    "history = model.fit(X_train, Y_train, batch_size=batch_size, \n",
    "                    nb_epoch=n_epoch, verbose=1, validation_data=(X_test, Y_test))"
   ]
  },
  {
   "cell_type": "code",
   "execution_count": 31,
   "metadata": {
    "collapsed": false
   },
   "outputs": [
    {
     "name": "stdout",
     "output_type": "stream",
     "text": [
      "('Train score:', 0.38383916020393372)\n",
      "('Train accuracy:', 1.0)\n",
      "('Test score:', 0.76343202590942383)\n",
      "('Test accuracy:', 0.5)\n"
     ]
    },
    {
     "data": {
      "image/png": "[encoded data removed]",
      "text/plain": [
       "<matplotlib.figure.Figure at 0x7f3454815f50>"
      ]
     },
     "metadata": {},
     "output_type": "display_data"
    }
   ],
   "source": [
    "pl.plot(history.history['loss'], label='Training')\n",
    "pl.plot(history.history['val_loss'], label='Testing')\n",
    "pl.legend()\n",
    "pl.grid()\n",
    "\n",
    "score = model.evaluate(X_train, Y_train, verbose=0)\n",
    "print('Train score:', score[0])\n",
    "print('Train accuracy:', score[1])\n",
    "\n",
    "\n",
    "score = model.evaluate(X_test, Y_test, verbose=0)\n",
    "print('Test score:', score[0])\n",
    "print('Test accuracy:', score[1])"
   ]
  },
  {
   "cell_type": "code",
   "execution_count": 32,
   "metadata": {
    "collapsed": true
   },
   "outputs": [],
   "source": [
    "import itertools\n",
    "def plot_confusion_matrix(cm, classes,\n",
    "                          normalize=False,\n",
    "                          title='Confusion matrix',\n",
    "                          cmap=plt.cm.Blues):\n",
    "    \"\"\"\n",
    "    This function prints and plots the confusion matrix.\n",
    "    Normalization can be applied by setting `normalize=True`.\n",
    "    \"\"\"\n",
    "    plt.imshow(cm, interpolation='nearest', cmap=cmap)\n",
    "    plt.title(title)\n",
    "    plt.colorbar()\n",
    "    tick_marks = np.arange(len(classes))\n",
    "    plt.xticks(tick_marks, classes, rotation=45)\n",
    "    plt.yticks(tick_marks, classes)\n",
    "\n",
    "    if normalize:\n",
    "        cm = cm.astype('float') / cm.sum(axis=1)[:, np.newaxis]\n",
    "        print(\"Normalized confusion matrix\")\n",
    "    else:\n",
    "        print('Confusion matrix, without normalization')\n",
    "\n",
    "    print(cm)\n",
    "\n",
    "    thresh = cm.max() / 2.\n",
    "    for i, j in itertools.product(range(cm.shape[0]), range(cm.shape[1])):\n",
    "        plt.text(j, i, cm[i, j],\n",
    "                 horizontalalignment=\"center\",\n",
    "                 color=\"white\" if cm[i, j] > thresh else \"black\")\n",
    "\n",
    "    plt.tight_layout()\n",
    "    plt.ylabel('True label')\n",
    "    plt.xlabel('Predicted label')"
   ]
  },
  {
   "cell_type": "code",
   "execution_count": 33,
   "metadata": {
    "collapsed": false
   },
   "outputs": [
    {
     "name": "stdout",
     "output_type": "stream",
     "text": [
      "6/6 [==============================] - 0s\n",
      "Confusion matrix, without normalization\n",
      "[[3 0]\n",
      " [3 0]]\n",
      "Normalized confusion matrix\n",
      "[[ 1.  0.]\n",
      " [ 1.  0.]]\n"
     ]
    },
    {
     "data": {
      "image/png": "[encoded data removed]",
      "text/plain": [
       "<matplotlib.figure.Figure at 0x7f3454815a10>"
      ]
     },
     "metadata": {},
     "output_type": "display_data"
    },
    {
     "data": {
      "image/png": "[encoded data removed]",
      "text/plain": [
       "<matplotlib.figure.Figure at 0x7f34544a7d50>"
      ]
     },
     "metadata": {},
     "output_type": "display_data"
    }
   ],
   "source": [
    "import sklearn.metrics as skmetrics\n",
    "y_test_pred=model.predict_classes(X_test)\n",
    "class_names=['becasse', 'Non-becasse']\n",
    "cnf_matrix = skmetrics.confusion_matrix(y_true=y_test, y_pred=y_test_pred)\n",
    "# Plot non-normalized confusion matrix\n",
    "plt.figure()\n",
    "plot_confusion_matrix(cnf_matrix, classes=class_names,\n",
    "                      title='Confusion matrix, without normalization')\n",
    "\n",
    "# Plot normalized confusion matrix\n",
    "plt.figure()\n",
    "plot_confusion_matrix(cnf_matrix, classes=class_names, normalize=True,\n",
    "                      title='Normalized confusion matrix')"
   ]
  },
  {
   "cell_type": "code",
   "execution_count": 34,
   "metadata": {
    "collapsed": false
   },
   "outputs": [
    {
     "data": {
      "text/plain": [
       "'from keras.wrappers.scikit_learn import KerasClassifier\\nfrom sklearn.preprocessing import StandardScaler\\nfrom sklearn.pipeline import Pipeline\\nfrom sklearn.model_selection import StratifiedKFold\\nfrom sklearn.model_selection import cross_val_score\\nfrom sklearn.preprocessing import LabelEncoder\\nbatch_size = 128\\nn_epoch = 2\\n\\n# encode class values as integers\\nencoder = LabelEncoder()\\nencoder.fit(Y_train)\\nencoded_Y = encoder.transform(Y_train)\\n\\nseed = 7\\nestimators = []\\nestimators.append((\\'standardize\\', StandardScaler()))\\nestimators.append((\\'mlp\\', KerasClassifier(build_fn=create_model, epochs=n_epoch, batch_size=batch_size, verbose=0)))\\npipeline = Pipeline(estimators)\\nkfold = StratifiedKFold(n_splits=10, shuffle=True, random_state=seed)\\nresults = cross_val_score(pipeline, X_train, encoded_Y, cv=kfold)\\nprint(\"Baseline: %.2f%% (%.2f%%)\" % (results.mean()*100, results.std()*100))\\n'"
      ]
     },
     "execution_count": 34,
     "metadata": {},
     "output_type": "execute_result"
    }
   ],
   "source": [
    "#A regarder si on a le temps\n",
    "'''from keras.wrappers.scikit_learn import KerasClassifier\n",
    "from sklearn.preprocessing import StandardScaler\n",
    "from sklearn.pipeline import Pipeline\n",
    "from sklearn.model_selection import StratifiedKFold\n",
    "from sklearn.model_selection import cross_val_score\n",
    "from sklearn.preprocessing import LabelEncoder\n",
    "batch_size = 128\n",
    "n_epoch = 2\n",
    "\n",
    "# encode class values as integers\n",
    "encoder = LabelEncoder()\n",
    "encoder.fit(Y_train)\n",
    "encoded_Y = encoder.transform(Y_train)\n",
    "\n",
    "seed = 7\n",
    "estimators = []\n",
    "estimators.append(('standardize', StandardScaler()))\n",
    "estimators.append(('mlp', KerasClassifier(build_fn=create_model, epochs=n_epoch, batch_size=batch_size, verbose=0)))\n",
    "pipeline = Pipeline(estimators)\n",
    "kfold = StratifiedKFold(n_splits=10, shuffle=True, random_state=seed)\n",
    "results = cross_val_score(pipeline, X_train, encoded_Y, cv=kfold)\n",
    "print(\"Baseline: %.2f%% (%.2f%%)\" % (results.mean()*100, results.std()*100))\n",
    "'''"
   ]
  }
 ],
 "metadata": {
  "kernelspec": {
   "display_name": "Python 2",
   "language": "python",
   "name": "python2"
  },
  "language_info": {
   "codemirror_mode": {
    "name": "ipython",
    "version": 2
   },
   "file_extension": ".py",
   "mimetype": "text/x-python",
   "name": "python",
   "nbconvert_exporter": "python",
   "pygments_lexer": "ipython2",
   "version": "2.7.13"
  }
 },
 "nbformat": 4,
 "nbformat_minor": 0
}
