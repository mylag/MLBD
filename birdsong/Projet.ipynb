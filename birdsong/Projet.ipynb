{
 "cells": [
  {
   "cell_type": "code",
   "execution_count": 162,
   "metadata": {
    "collapsed": false
   },
   "outputs": [
    {
     "name": "stdout",
     "output_type": "stream",
     "text": [
      "Populating the interactive namespace from numpy and matplotlib\n"
     ]
    },
    {
     "name": "stderr",
     "output_type": "stream",
     "text": [
      "WARNING: pylab import has clobbered these variables: ['pylab']\n",
      "`%matplotlib` prevents importing * from pylab and numpy\n"
     ]
    }
   ],
   "source": [
    "import librosa\n",
    "import librosa.display\n",
    "%pylab inline --no-import-all\n",
    "from scikits.audiolab import wavread\n",
    "from scipy import signal\n",
    "import matplotlib.pyplot as plt\n",
    "from scipy.io import wavfile\n",
    "import math\n",
    "import numpy as np\n",
    "from numpy.fft import fft\n",
    "import pylab\n",
    "import mir_eval\n",
    "import seaborn\n",
    "seaborn.set(style=\"ticks\")"
   ]
  },
  {
   "cell_type": "code",
   "execution_count": 163,
   "metadata": {
    "collapsed": true
   },
   "outputs": [],
   "source": [
    "def loadsingal(filename):\n",
    "    signal ,sample_rate=librosa.load(filename,sr=12000, mono=True)\n",
    "    signal=signal#[int(2.5 * sample_rate):int(3.0 * sample_rate)] \n",
    "    return signal ,sample_rate"
   ]
  },
  {
   "cell_type": "code",
   "execution_count": 164,
   "metadata": {
    "collapsed": true
   },
   "outputs": [],
   "source": [
    "def pad_audio(data, fs, T):\n",
    "    # Calculate target number of samples\n",
    "    N_tar = int(fs * T)\n",
    "    # Calculate number of zero samples to append\n",
    "    shape = data.shape\n",
    "    # Create the target shape    \n",
    "    N_pad = N_tar - shape[0]\n",
    "    #print(\"Padding with %s seconds of silence\" % str(N_pad/fs) )\n",
    "    shape = (N_pad,) + shape[1:]\n",
    "    # Stack only if there is something to append    \n",
    "    if shape[0] > 0:                \n",
    "        if len(shape) > 1:\n",
    "            return np.vstack((np.zeros(shape),\n",
    "                              data))\n",
    "        else:\n",
    "            return np.hstack((np.zeros(shape),\n",
    "                              data))\n",
    "    else:\n",
    "        return data"
   ]
  },
  {
   "cell_type": "code",
   "execution_count": 165,
   "metadata": {
    "collapsed": false
   },
   "outputs": [
    {
     "data": {
      "text/plain": [
       "(120001,)"
      ]
     },
     "execution_count": 165,
     "metadata": {},
     "output_type": "execute_result"
    }
   ],
   "source": [
    "len(signals)\n",
    "signals[0].shape"
   ]
  },
  {
   "cell_type": "code",
   "execution_count": 166,
   "metadata": {
    "collapsed": false
   },
   "outputs": [],
   "source": [
    "from scipy import signal\n",
    "def spectrogram(signals,plot=False,sample_rate=12000):\n",
    "    #Sxxs=np.empty((0,0))\n",
    "    Sxxs=[]\n",
    "    for i,data in enumerate(signals):\n",
    "        f, t, Sxx = signal.spectrogram(data,sample_rate)\n",
    "        #if i==0:\n",
    "        #    Sxxs=Sxx\n",
    "        #else:\n",
    "        #    Sxxs=np.append(Sxxs, Sxx, axis=0)\n",
    "        Sxxs.append(Sxx)\n",
    "       \n",
    "        if plot==True:\n",
    "            plt.pcolormesh(t, f, Sxx)\n",
    "            plt.ylabel('Frequency [Hz]')\n",
    "            plt.xlabel('Time [sec]')\n",
    "            plt.grid()\n",
    "            plt.show()\n",
    "    return Sxxs"
   ]
  },
  {
   "cell_type": "code",
   "execution_count": 191,
   "metadata": {
    "collapsed": false
   },
   "outputs": [
    {
     "name": "stdout",
     "output_type": "stream",
     "text": [
      "['/BECASSE FILTREe/10f1-EQ37B-01.wav', '/BECASSE FILTREe/10f100-EQ37B-01.wav', '/BECASSE FILTREe/10f101-EQ37B-01.wav']\n",
      "['NON-BECASSE-FILTREE/a1011-EQ37B-01.wav', 'NON-BECASSE-FILTREE/a1019-EQ37B-01.wav', 'NON-BECASSE-FILTREE/a1090-EQ37B-01.wav']\n",
      "40\n",
      "40\n",
      "(40, 129, 1607)\n",
      "(40,)\n"
     ]
    }
   ],
   "source": [
    "import glob, os\n",
    "dir =\"/Users/kimtaing/Documents/github/MLBD/MLBD/birdsong/\"\n",
    "os.chdir(dir+\"BECASSE FILTREe\")\n",
    "filenames=[]\n",
    "for file in glob.glob(\"*.wav\"):\n",
    "    filenames.append('/BECASSE FILTREe/'+file)\n",
    "\n",
    "os.chdir(dir+\"NON-BECASSE-FILTREE\")\n",
    "\n",
    "filenames_N=[]\n",
    "for file in glob.glob(\"*.wav\"):\n",
    "    filenames_N.append('NON-BECASSE-FILTREE/'+file)\n",
    "\n",
    "print filenames[:3]\n",
    "print filenames_N[:3]\n",
    "\n",
    "n=20\n",
    "filenames=filenames[:n]\n",
    "filenames_N=filenames_N[:n]\n",
    "signals=[]\n",
    "signals_N=[]\n",
    "time=float(30)\n",
    "\n",
    "for filename in filenames:\n",
    "    path=dir +filename\n",
    "    s ,sample_rate=loadsingal(path)\n",
    "    s_t=pad_audio(s,sample_rate,time)\n",
    "    signals.append(s_t)\n",
    "\n",
    "for filename in filenames_N:\n",
    "    path=dir +filename\n",
    "    s_N ,sample_rate_N=loadsingal(path)\n",
    "    s_N_t=pad_audio(s_N,sample_rate_N,time)\n",
    "    signals_N.append(s_N_t)\n",
    "    \n",
    "    \n",
    "X_train_B=np.asarray(spectrogram(signals,False,sample_rate))\n",
    "y_train_B=np.ones(len(X_train_B))  # 1:becasse, o: non becasse\n",
    "\n",
    "X_train_N=np.asarray(spectrogram(signals_N,False,sample_rate))\n",
    "y_train_N=np.zeros(len(X_train_N))  # 1:becasse, o: non becasse\n",
    "\n",
    "X_train = np.concatenate((X_train_B, X_train_N),axis=0)\n",
    "y_train = np.concatenate((y_train_B ,y_train_N),axis=0)\n",
    "\n",
    "X_test = X_train\n",
    "y_test = y_train\n",
    "\n",
    "print len(X_train)\n",
    "print len(y_train)\n",
    "print X_train.shape\n",
    "print y_train.shape"
   ]
  },
  {
   "cell_type": "code",
   "execution_count": 192,
   "metadata": {
    "collapsed": false
   },
   "outputs": [],
   "source": [
    "import numpy as np\n",
    "from matplotlib import pyplot as pl\n",
    "\n",
    "from keras.datasets import mnist\n",
    "from keras.models import Model\n",
    "from keras.layers.core import Dense, Dropout, Flatten\n",
    "from keras.optimizers import RMSprop\n",
    "from keras.utils import np_utils\n",
    "from keras.layers.convolutional import Convolution2D, MaxPooling2D\n",
    "from keras.layers import Input\n",
    "from sklearn import metrics as me\n",
    "from scipy import stats\n",
    "\n",
    "%matplotlib inline"
   ]
  },
  {
   "cell_type": "code",
   "execution_count": null,
   "metadata": {
    "collapsed": false
   },
   "outputs": [],
   "source": [
    "\n"
   ]
  },
  {
   "cell_type": "code",
   "execution_count": 193,
   "metadata": {
    "collapsed": false
   },
   "outputs": [
    {
     "name": "stdout",
     "output_type": "stream",
     "text": [
      "(40, 129, 1607)\n",
      "(40,)\n",
      "40 train samples\n",
      "40 test samples\n",
      "(40, 1, 129, 1607)\n",
      "(40,)\n"
     ]
    }
   ],
   "source": [
    "n_train, height, width = X_train.shape\n",
    "n_test, _, _ = X_test.shape\n",
    "print X_train.shape\n",
    "print y_train.shape\n",
    "X_train = X_train.reshape(n_train, 1, height, width).astype('float32')\n",
    "X_test = X_test.reshape(n_test, 1, height, width).astype('float32')\n",
    "\n",
    "maxi_train_value=np.max(X_train[2])\n",
    "maxi_test_value=np.max(X_test[2])\n",
    "\n",
    "\n",
    "X_train /= float(maxi_train_value)\n",
    "X_test /= float(maxi_test_value)\n",
    "\n",
    "n_classes = 2\n",
    "\n",
    "print n_train, 'train samples'\n",
    "print n_test, 'test samples'\n",
    "\n",
    "print X_train.shape\n",
    "print y_train.shape\n",
    "# convert class vectors to binary class matrices\n",
    "Y_train = np_utils.to_categorical(y_train, n_classes)\n",
    "Y_test = np_utils.to_categorical(y_test, n_classes)"
   ]
  },
  {
   "cell_type": "code",
   "execution_count": 194,
   "metadata": {
    "collapsed": false
   },
   "outputs": [
    {
     "name": "stdout",
     "output_type": "stream",
     "text": [
      "____________________________________________________________________________________________________\n",
      "Layer (type)                     Output Shape          Param #     Connected to                     \n",
      "====================================================================================================\n",
      "l0 (InputLayer)                  (None, 1, 129, 1607)  0                                            \n",
      "____________________________________________________________________________________________________\n",
      "l1 (Convolution2D)               (None, 9, 129, 1607)  234         l0[0][0]                         \n",
      "____________________________________________________________________________________________________\n",
      "l1_mp (MaxPooling2D)             (None, 9, 64, 803)    0           l1[0][0]                         \n",
      "____________________________________________________________________________________________________\n",
      "l2 (Convolution2D)               (None, 9, 64, 803)    2034        l1_mp[0][0]                      \n",
      "____________________________________________________________________________________________________\n",
      "l2_mp (MaxPooling2D)             (None, 9, 32, 401)    0           l2[0][0]                         \n",
      "____________________________________________________________________________________________________\n",
      "l3 (Convolution2D)               (None, 16, 32, 401)   1312        l2_mp[0][0]                      \n",
      "____________________________________________________________________________________________________\n",
      "l3_mp (MaxPooling2D)             (None, 16, 16, 200)   0           l3[0][0]                         \n",
      "____________________________________________________________________________________________________\n",
      "flat (Flatten)                   (None, 51200)         0           l3_mp[0][0]                      \n",
      "____________________________________________________________________________________________________\n",
      "l4 (Dense)                       (None, 25)            1280025     flat[0][0]                       \n",
      "____________________________________________________________________________________________________\n",
      "l5 (Dense)                       (None, 2)             52          l4[0][0]                         \n",
      "====================================================================================================\n",
      "Total params: 1283657\n",
      "____________________________________________________________________________________________________\n"
     ]
    }
   ],
   "source": [
    "l0 = Input(shape=(1, height, width), name='l0')\n",
    "\n",
    "l1 = Convolution2D(9, 5, 5, border_mode='same', activation='relu', name='l1')(l0)\n",
    "l1_mp = MaxPooling2D(pool_size=(2, 2), name='l1_mp')(l1)\n",
    "\n",
    "l2 = Convolution2D(9, 5, 5, border_mode='same', activation='relu', name='l2')(l1_mp)\n",
    "l2_mp = MaxPooling2D(pool_size=(2, 2), name='l2_mp')(l2)\n",
    "\n",
    "l3 = Convolution2D(16, 3, 3, border_mode='same', activation='relu', name='l3')(l2_mp)\n",
    "l3_mp = MaxPooling2D(pool_size=(2, 2), name='l3_mp')(l3)\n",
    "\n",
    "flat = Flatten(name='flat')(l3_mp)\n",
    "\n",
    "l4 = Dense(25, activation='relu', name='l4')(flat)\n",
    "\n",
    "l5 = Dense(n_classes, activation='softmax', name='l5')(l4)\n",
    "\n",
    "model = Model(input=l0, output=l5)\n",
    "model.summary()"
   ]
  },
  {
   "cell_type": "code",
   "execution_count": 195,
   "metadata": {
    "collapsed": false
   },
   "outputs": [
    {
     "name": "stdout",
     "output_type": "stream",
     "text": [
      "(40, 1, 129, 1607)\n",
      "(40, 2)\n",
      "(40, 1, 129, 1607)\n",
      "(40, 2)\n"
     ]
    }
   ],
   "source": [
    "print X_train.shape\n",
    "print Y_train.shape\n",
    "\n",
    "print X_test.shape\n",
    "print Y_test.shape\n"
   ]
  },
  {
   "cell_type": "code",
   "execution_count": 196,
   "metadata": {
    "collapsed": false
   },
   "outputs": [
    {
     "name": "stdout",
     "output_type": "stream",
     "text": [
      "Train on 40 samples, validate on 40 samples\n",
      "Epoch 1/10\n",
      "40/40 [==============================] - 30s - loss: 0.6938 - acc: 0.4750 - val_loss: 0.6086 - val_acc: 0.9750\n",
      "Epoch 2/10\n",
      "40/40 [==============================] - 29s - loss: 0.6086 - acc: 0.9750 - val_loss: 0.4088 - val_acc: 0.9250\n",
      "Epoch 3/10\n",
      "40/40 [==============================] - 29s - loss: 0.4088 - acc: 0.9250 - val_loss: 0.7435 - val_acc: 0.6250\n",
      "Epoch 4/10\n",
      "40/40 [==============================] - 31s - loss: 0.7435 - acc: 0.6250 - val_loss: 0.5725 - val_acc: 0.6500\n",
      "Epoch 5/10\n",
      "40/40 [==============================] - 31s - loss: 0.5725 - acc: 0.6500 - val_loss: 0.2122 - val_acc: 0.9500\n",
      "Epoch 6/10\n",
      "40/40 [==============================] - 29s - loss: 0.2122 - acc: 0.9500 - val_loss: 0.1667 - val_acc: 0.9500\n",
      "Epoch 7/10\n",
      "40/40 [==============================] - 27s - loss: 0.1667 - acc: 0.9500 - val_loss: 0.1455 - val_acc: 0.9500\n",
      "Epoch 8/10\n",
      "40/40 [==============================] - 27s - loss: 0.1455 - acc: 0.9500 - val_loss: 0.1242 - val_acc: 0.9500\n",
      "Epoch 9/10\n",
      "40/40 [==============================] - 27s - loss: 0.1242 - acc: 0.9500 - val_loss: 0.1143 - val_acc: 0.9500\n",
      "Epoch 10/10\n",
      "40/40 [==============================] - 29s - loss: 0.1143 - acc: 0.9500 - val_loss: 0.1030 - val_acc: 0.9500\n"
     ]
    }
   ],
   "source": [
    "batch_size = 128\n",
    "n_epoch = 10\n",
    "\n",
    "model.compile(loss='categorical_crossentropy', optimizer=RMSprop(), metrics=['accuracy'])\n",
    "history = model.fit(X_train, Y_train, batch_size=batch_size, nb_epoch=n_epoch, verbose=1, validation_data=(X_test, Y_test))"
   ]
  },
  {
   "cell_type": "code",
   "execution_count": 197,
   "metadata": {
    "collapsed": false
   },
   "outputs": [
    {
     "name": "stdout",
     "output_type": "stream",
     "text": [
      "('Test score:', 0.1030004195868969)\n",
      "('Test accuracy:', 0.94999999999999996)\n"
     ]
    },
    {
     "data": {
      "image/png": "[encoded data removed]",
      "text/plain": [
       "<matplotlib.figure.Figure at 0x125ccfbd0>"
      ]
     },
     "metadata": {},
     "output_type": "display_data"
    }
   ],
   "source": [
    "pl.plot(history.history['loss'], label='Training')\n",
    "pl.plot(history.history['val_loss'], label='Testing')\n",
    "pl.legend()\n",
    "pl.grid()\n",
    "\n",
    "score = model.evaluate(X_test, Y_test, verbose=0)\n",
    "print('Test score:', score[0])\n",
    "print('Test accuracy:', score[1])"
   ]
  },
  {
   "cell_type": "code",
   "execution_count": 198,
   "metadata": {
    "collapsed": false
   },
   "outputs": [
    {
     "data": {
      "text/plain": [
       "array([[18,  2],\n",
       "       [ 0, 20]])"
      ]
     },
     "execution_count": 198,
     "metadata": {},
     "output_type": "execute_result"
    }
   ],
   "source": [
    "pred = model.predict_on_batch(X_test)\n",
    "pred = np_utils.probas_to_classes(pred)\n",
    "me.confusion_matrix(y_test, pred)"
   ]
  }
 ],
 "metadata": {
  "kernelspec": {
   "display_name": "Python [Root]",
   "language": "python",
   "name": "Python [Root]"
  },
  "language_info": {
   "codemirror_mode": {
    "name": "ipython",
    "version": 2
   },
   "file_extension": ".py",
   "mimetype": "text/x-python",
   "name": "python",
   "nbconvert_exporter": "python",
   "pygments_lexer": "ipython2",
   "version": "2.7.13"
  }
 },
 "nbformat": 4,
 "nbformat_minor": 0
}
